{
 "cells": [
  {
   "attachments": {},
   "cell_type": "markdown",
   "metadata": {},
   "source": [
    "# Обучение модели распознавания капчи"
   ]
  },
  {
   "attachments": {},
   "cell_type": "markdown",
   "metadata": {},
   "source": [
    "Перед решением задачи, для того чтобы понять, а что всё-таки надо делать и как по хорошему это надо решать была обнаружена [статья](https://arxiv.org/pdf/1507.05717.pdf). \n",
    "\n",
    "Именно по этой статье построенно всё решение. Причины, по которым я так поступил:\n",
    "1. Описание подхода, особенно архитектура модели, в статье совпали с условием задания\n",
    "2. В статье описан end2end подход\n",
    "3. Было желание потренировать навык воспроизведения решений из статей"
   ]
  },
  {
   "attachments": {},
   "cell_type": "markdown",
   "metadata": {},
   "source": [
    "Описание архитектуры проекта: \n",
    "- В файле __dataset.py__ содержится класс `CaptchaDataset` считывающий изображения из папки `/data` \n",
    "- В файле __model.py__ описан класс модели `RCNN`, почти полностью повторяющий архитектуру, предложенную в статье\n",
    "- В файле __train.py__ описаны методы `train_epoch`, `eval_epoch` и `train`. Первые два проводят обучение модели и её валидацию на всех переданных им данных один раз. Метод `train` поочередно выполняет обучение и валидацию модели указанное число раз.\n",
    "- В файле __pipeline.py__ описан метод `training_pipeline` запускающий обучения модели и вывод графиков Loss, CER. Также по итогу обучения, лучшая по CER модель сохраняетс в `/models/model`\n",
    "- В Файле __analysis.py__ описан метод `searcher_for_problem_examples` поиска объектов на тестовой выборке, на которых модель допустила ошибку."
   ]
  },
  {
   "cell_type": "code",
   "execution_count": 1,
   "metadata": {},
   "outputs": [],
   "source": [
    "from src.model import RCNN\n",
    "from torchsummary import summary"
   ]
  },
  {
   "attachments": {},
   "cell_type": "markdown",
   "metadata": {},
   "source": [
    "## Описание архитектуры модели\n",
    "Модель состоит из: \n",
    "- CNN feature extractor части\n",
    "- Дополнительного Linear слоя для перевода выхода CNN во вход на LSTM\n",
    "- Deep Bi-directional LSTM\n",
    "- Linear слоя переводящего вывод LSTM в логиты классов символов"
   ]
  },
  {
   "cell_type": "code",
   "execution_count": 11,
   "metadata": {},
   "outputs": [
    {
     "name": "stdout",
     "output_type": "stream",
     "text": [
      "=================================================================\n",
      "Layer (type:depth-idx)                   Param #\n",
      "=================================================================\n",
      "├─Sequential: 1-1                        --\n",
      "|    └─Conv2d: 2-1                       640\n",
      "|    └─MaxPool2d: 2-2                    --\n",
      "|    └─ReLU: 2-3                         --\n",
      "|    └─Conv2d: 2-4                       73,856\n",
      "|    └─MaxPool2d: 2-5                    --\n",
      "|    └─ReLU: 2-6                         --\n",
      "|    └─Conv2d: 2-7                       295,168\n",
      "|    └─ReLU: 2-8                         --\n",
      "|    └─Conv2d: 2-9                       590,080\n",
      "|    └─MaxPool2d: 2-10                   --\n",
      "|    └─ReLU: 2-11                        --\n",
      "|    └─Conv2d: 2-12                      1,180,160\n",
      "|    └─ReLU: 2-13                        --\n",
      "|    └─BatchNorm2d: 2-14                 1,024\n",
      "|    └─Conv2d: 2-15                      2,359,808\n",
      "|    └─ReLU: 2-16                        --\n",
      "|    └─BatchNorm2d: 2-17                 1,024\n",
      "|    └─MaxPool2d: 2-18                   --\n",
      "|    └─Conv2d: 2-19                      1,049,088\n",
      "├─Sequential: 1-2                        --\n",
      "|    └─Linear: 2-20                      32,832\n",
      "├─Sequential: 1-3                        --\n",
      "|    └─LSTM: 2-21                        2,236,416\n",
      "├─Sequential: 1-4                        --\n",
      "|    └─Linear: 2-22                      18,981\n",
      "=================================================================\n",
      "Total params: 7,839,077\n",
      "Trainable params: 7,839,077\n",
      "Non-trainable params: 0\n",
      "=================================================================\n"
     ]
    },
    {
     "data": {
      "text/plain": [
       "=================================================================\n",
       "Layer (type:depth-idx)                   Param #\n",
       "=================================================================\n",
       "├─Sequential: 1-1                        --\n",
       "|    └─Conv2d: 2-1                       640\n",
       "|    └─MaxPool2d: 2-2                    --\n",
       "|    └─ReLU: 2-3                         --\n",
       "|    └─Conv2d: 2-4                       73,856\n",
       "|    └─MaxPool2d: 2-5                    --\n",
       "|    └─ReLU: 2-6                         --\n",
       "|    └─Conv2d: 2-7                       295,168\n",
       "|    └─ReLU: 2-8                         --\n",
       "|    └─Conv2d: 2-9                       590,080\n",
       "|    └─MaxPool2d: 2-10                   --\n",
       "|    └─ReLU: 2-11                        --\n",
       "|    └─Conv2d: 2-12                      1,180,160\n",
       "|    └─ReLU: 2-13                        --\n",
       "|    └─BatchNorm2d: 2-14                 1,024\n",
       "|    └─Conv2d: 2-15                      2,359,808\n",
       "|    └─ReLU: 2-16                        --\n",
       "|    └─BatchNorm2d: 2-17                 1,024\n",
       "|    └─MaxPool2d: 2-18                   --\n",
       "|    └─Conv2d: 2-19                      1,049,088\n",
       "├─Sequential: 1-2                        --\n",
       "|    └─Linear: 2-20                      32,832\n",
       "├─Sequential: 1-3                        --\n",
       "|    └─LSTM: 2-21                        2,236,416\n",
       "├─Sequential: 1-4                        --\n",
       "|    └─Linear: 2-22                      18,981\n",
       "=================================================================\n",
       "Total params: 7,839,077\n",
       "Trainable params: 7,839,077\n",
       "Non-trainable params: 0\n",
       "================================================================="
      ]
     },
     "execution_count": 11,
     "metadata": {},
     "output_type": "execute_result"
    }
   ],
   "source": [
    "model = RCNN()\n",
    "summary(model)"
   ]
  },
  {
   "cell_type": "code",
   "execution_count": 3,
   "metadata": {},
   "outputs": [],
   "source": [
    "from src.pipeline import training_pipeline\n",
    "from src.analysis import searcher_for_problem_examples"
   ]
  },
  {
   "cell_type": "code",
   "execution_count": 4,
   "metadata": {},
   "outputs": [
    {
     "data": {
      "application/vnd.jupyter.widget-view+json": {
       "model_id": "d1aef7bc89064b6295aaf2e010635fdc",
       "version_major": 2,
       "version_minor": 0
      },
      "text/plain": [
       "  0%|          | 0/1070 [00:00<?, ?it/s]"
      ]
     },
     "metadata": {},
     "output_type": "display_data"
    },
    {
     "data": {
      "application/vnd.jupyter.widget-view+json": {
       "model_id": "262882f1f2814005b1f0f59b6c42ff19",
       "version_major": 2,
       "version_minor": 0
      },
      "text/plain": [
       "  0%|          | 0/1070 [00:00<?, ?it/s]"
      ]
     },
     "metadata": {},
     "output_type": "display_data"
    },
    {
     "name": "stdout",
     "output_type": "stream",
     "text": [
      "Prepearing train data\n",
      "Prepearing test data\n",
      "EPOCH 1/80: \n"
     ]
    },
    {
     "data": {
      "application/vnd.jupyter.widget-view+json": {
       "model_id": "03784e76ce84464098249ba57e2853cc",
       "version_major": 2,
       "version_minor": 0
      },
      "text/plain": [
       "  0%|          | 0/14 [00:00<?, ?it/s]"
      ]
     },
     "metadata": {},
     "output_type": "display_data"
    },
    {
     "data": {
      "application/vnd.jupyter.widget-view+json": {
       "model_id": "b843c40f50df44719dc37a3bcda06ce3",
       "version_major": 2,
       "version_minor": 0
      },
      "text/plain": [
       "  0%|          | 0/4 [00:00<?, ?it/s]"
      ]
     },
     "metadata": {},
     "output_type": "display_data"
    },
    {
     "name": "stdout",
     "output_type": "stream",
     "text": [
      "Train loss:   33.462867736816406\n",
      "Train  CER:   0.9969626\n",
      "Test  loss:   19.403152465820312\n",
      "Test   CER:   1.0\n",
      "Best   CER:   1.0\n",
      "([], ['p', 'm', 'f', '5', 'w'])\n",
      "EPOCH 2/80: \n"
     ]
    },
    {
     "data": {
      "application/vnd.jupyter.widget-view+json": {
       "model_id": "9a12d1316102499c9a493873c4ee5975",
       "version_major": 2,
       "version_minor": 0
      },
      "text/plain": [
       "  0%|          | 0/14 [00:00<?, ?it/s]"
      ]
     },
     "metadata": {},
     "output_type": "display_data"
    },
    {
     "data": {
      "application/vnd.jupyter.widget-view+json": {
       "model_id": "252d571487124d7e95c61cbe70edbf4f",
       "version_major": 2,
       "version_minor": 0
      },
      "text/plain": [
       "  0%|          | 0/4 [00:00<?, ?it/s]"
      ]
     },
     "metadata": {},
     "output_type": "display_data"
    },
    {
     "name": "stdout",
     "output_type": "stream",
     "text": [
      "Train loss:   16.94280242919922\n",
      "Train  CER:   1.0\n",
      "Test  loss:   17.177188873291016\n",
      "Test   CER:   1.0\n",
      "Best   CER:   1.0\n",
      "([], ['p', 'm', 'f', '5', 'w'])\n",
      "([], ['5', 'b', 'g', 'p', '2'])\n",
      "EPOCH 3/80: \n"
     ]
    },
    {
     "data": {
      "application/vnd.jupyter.widget-view+json": {
       "model_id": "d0f4e08a147d422593f9cd58783cd4f7",
       "version_major": 2,
       "version_minor": 0
      },
      "text/plain": [
       "  0%|          | 0/14 [00:00<?, ?it/s]"
      ]
     },
     "metadata": {},
     "output_type": "display_data"
    },
    {
     "data": {
      "application/vnd.jupyter.widget-view+json": {
       "model_id": "1296e900801d469793d8904fc2debb65",
       "version_major": 2,
       "version_minor": 0
      },
      "text/plain": [
       "  0%|          | 0/4 [00:00<?, ?it/s]"
      ]
     },
     "metadata": {},
     "output_type": "display_data"
    },
    {
     "name": "stdout",
     "output_type": "stream",
     "text": [
      "Train loss:   16.753698348999023\n",
      "Train  CER:   1.0\n",
      "Test  loss:   17.01104736328125\n",
      "Test   CER:   1.0\n",
      "Best   CER:   1.0\n",
      "([], ['p', 'm', 'f', '5', 'w'])\n",
      "([], ['5', 'b', 'g', 'p', '2'])\n",
      "([], ['b', 'w', 'm', 'e', 'e'])\n",
      "EPOCH 4/80: \n"
     ]
    },
    {
     "data": {
      "application/vnd.jupyter.widget-view+json": {
       "model_id": "7704471b7f1d4e31b89ca1c08b0c13c9",
       "version_major": 2,
       "version_minor": 0
      },
      "text/plain": [
       "  0%|          | 0/14 [00:00<?, ?it/s]"
      ]
     },
     "metadata": {},
     "output_type": "display_data"
    },
    {
     "data": {
      "application/vnd.jupyter.widget-view+json": {
       "model_id": "c644c561c5b54a0ca63da3a3ec4a2189",
       "version_major": 2,
       "version_minor": 0
      },
      "text/plain": [
       "  0%|          | 0/4 [00:00<?, ?it/s]"
      ]
     },
     "metadata": {},
     "output_type": "display_data"
    },
    {
     "name": "stdout",
     "output_type": "stream",
     "text": [
      "Train loss:   16.66111946105957\n",
      "Train  CER:   1.0\n",
      "Test  loss:   16.368919372558594\n",
      "Test   CER:   1.0\n",
      "Best   CER:   1.0\n",
      "([], ['p', 'm', 'f', '5', 'w'])\n",
      "([], ['5', 'b', 'g', 'p', '2'])\n",
      "([], ['b', 'w', 'm', 'e', 'e'])\n",
      "([], ['2', '3', '5', '6', 'g'])\n",
      "EPOCH 5/80: \n"
     ]
    },
    {
     "data": {
      "application/vnd.jupyter.widget-view+json": {
       "model_id": "2e678d00b32d43298e799d3488cd820a",
       "version_major": 2,
       "version_minor": 0
      },
      "text/plain": [
       "  0%|          | 0/14 [00:00<?, ?it/s]"
      ]
     },
     "metadata": {},
     "output_type": "display_data"
    },
    {
     "data": {
      "application/vnd.jupyter.widget-view+json": {
       "model_id": "dc9edf52ddc14037b33b613a844594c5",
       "version_major": 2,
       "version_minor": 0
      },
      "text/plain": [
       "  0%|          | 0/4 [00:00<?, ?it/s]"
      ]
     },
     "metadata": {},
     "output_type": "display_data"
    },
    {
     "name": "stdout",
     "output_type": "stream",
     "text": [
      "Train loss:   16.659290313720703\n",
      "Train  CER:   1.0\n",
      "Test  loss:   16.387475967407227\n",
      "Test   CER:   1.0\n",
      "Best   CER:   1.0\n",
      "([], ['p', 'm', 'f', '5', 'w'])\n",
      "([], ['5', 'b', 'g', 'p', '2'])\n",
      "([], ['b', 'w', 'm', 'e', 'e'])\n",
      "([], ['2', '3', '5', '6', 'g'])\n",
      "([], ['b', '2', '8', 'g', '8'])\n",
      "EPOCH 6/80: \n"
     ]
    },
    {
     "data": {
      "application/vnd.jupyter.widget-view+json": {
       "model_id": "d8758b5a215940f5bab37013dcc7729b",
       "version_major": 2,
       "version_minor": 0
      },
      "text/plain": [
       "  0%|          | 0/14 [00:00<?, ?it/s]"
      ]
     },
     "metadata": {},
     "output_type": "display_data"
    },
    {
     "data": {
      "application/vnd.jupyter.widget-view+json": {
       "model_id": "e997fe35937d4fa6a660235eee4678fa",
       "version_major": 2,
       "version_minor": 0
      },
      "text/plain": [
       "  0%|          | 0/4 [00:00<?, ?it/s]"
      ]
     },
     "metadata": {},
     "output_type": "display_data"
    },
    {
     "name": "stdout",
     "output_type": "stream",
     "text": [
      "Train loss:   16.46454620361328\n",
      "Train  CER:   1.0\n",
      "Test  loss:   16.345027923583984\n",
      "Test   CER:   1.0\n",
      "Best   CER:   1.0\n",
      "([], ['5', 'b', 'g', 'p', '2'])\n",
      "([], ['b', 'w', 'm', 'e', 'e'])\n",
      "([], ['2', '3', '5', '6', 'g'])\n",
      "([], ['b', '2', '8', 'g', '8'])\n",
      "([], ['x', 'f', 'n', '6', 'n'])\n",
      "EPOCH 7/80: \n"
     ]
    },
    {
     "data": {
      "application/vnd.jupyter.widget-view+json": {
       "model_id": "adbac3906a0d4864b5f5667eefa9af03",
       "version_major": 2,
       "version_minor": 0
      },
      "text/plain": [
       "  0%|          | 0/14 [00:00<?, ?it/s]"
      ]
     },
     "metadata": {},
     "output_type": "display_data"
    },
    {
     "data": {
      "application/vnd.jupyter.widget-view+json": {
       "model_id": "176cd0b1f3594058839d9bc3598107d0",
       "version_major": 2,
       "version_minor": 0
      },
      "text/plain": [
       "  0%|          | 0/4 [00:00<?, ?it/s]"
      ]
     },
     "metadata": {},
     "output_type": "display_data"
    },
    {
     "name": "stdout",
     "output_type": "stream",
     "text": [
      "Train loss:   16.57475471496582\n",
      "Train  CER:   1.0\n",
      "Test  loss:   16.31536102294922\n",
      "Test   CER:   1.0\n",
      "Best   CER:   1.0\n",
      "([], ['b', 'w', 'm', 'e', 'e'])\n",
      "([], ['2', '3', '5', '6', 'g'])\n",
      "([], ['b', '2', '8', 'g', '8'])\n",
      "([], ['x', 'f', 'n', '6', 'n'])\n",
      "([], ['d', 'm', 'w', '8', 'n'])\n",
      "EPOCH 8/80: \n"
     ]
    },
    {
     "data": {
      "application/vnd.jupyter.widget-view+json": {
       "model_id": "f31d072bd1864d5eb1e54c157f173e79",
       "version_major": 2,
       "version_minor": 0
      },
      "text/plain": [
       "  0%|          | 0/14 [00:00<?, ?it/s]"
      ]
     },
     "metadata": {},
     "output_type": "display_data"
    },
    {
     "data": {
      "application/vnd.jupyter.widget-view+json": {
       "model_id": "68aa5be1bd1a4f33993aaf368c2bb698",
       "version_major": 2,
       "version_minor": 0
      },
      "text/plain": [
       "  0%|          | 0/4 [00:00<?, ?it/s]"
      ]
     },
     "metadata": {},
     "output_type": "display_data"
    },
    {
     "name": "stdout",
     "output_type": "stream",
     "text": [
      "Train loss:   16.3693904876709\n",
      "Train  CER:   1.0\n",
      "Test  loss:   16.282373428344727\n",
      "Test   CER:   1.0\n",
      "Best   CER:   1.0\n",
      "([], ['2', '3', '5', '6', 'g'])\n",
      "([], ['b', '2', '8', 'g', '8'])\n",
      "([], ['x', 'f', 'n', '6', 'n'])\n",
      "([], ['d', 'm', 'w', '8', 'n'])\n",
      "([], ['7', 'x', 'c', 'y', 'd'])\n",
      "EPOCH 9/80: \n"
     ]
    },
    {
     "data": {
      "application/vnd.jupyter.widget-view+json": {
       "model_id": "6890f5b6ba7045c08c35886b0a25b7bf",
       "version_major": 2,
       "version_minor": 0
      },
      "text/plain": [
       "  0%|          | 0/14 [00:00<?, ?it/s]"
      ]
     },
     "metadata": {},
     "output_type": "display_data"
    },
    {
     "data": {
      "application/vnd.jupyter.widget-view+json": {
       "model_id": "ff8daa331744410da1d8c90c97b8f89d",
       "version_major": 2,
       "version_minor": 0
      },
      "text/plain": [
       "  0%|          | 0/4 [00:00<?, ?it/s]"
      ]
     },
     "metadata": {},
     "output_type": "display_data"
    },
    {
     "name": "stdout",
     "output_type": "stream",
     "text": [
      "Train loss:   16.475685119628906\n",
      "Train  CER:   1.0\n",
      "Test  loss:   16.29405975341797\n",
      "Test   CER:   1.0\n",
      "Best   CER:   1.0\n",
      "([], ['b', '2', '8', 'g', '8'])\n",
      "([], ['x', 'f', 'n', '6', 'n'])\n",
      "([], ['d', 'm', 'w', '8', 'n'])\n",
      "([], ['7', 'x', 'c', 'y', 'd'])\n",
      "([], ['7', 'm', 'g', 'm', 'f'])\n",
      "EPOCH 10/80: \n"
     ]
    },
    {
     "data": {
      "application/vnd.jupyter.widget-view+json": {
       "model_id": "7876223e6a124db7bc666e36d6969958",
       "version_major": 2,
       "version_minor": 0
      },
      "text/plain": [
       "  0%|          | 0/14 [00:00<?, ?it/s]"
      ]
     },
     "metadata": {},
     "output_type": "display_data"
    },
    {
     "data": {
      "application/vnd.jupyter.widget-view+json": {
       "model_id": "1a49147e908349639bb6bd2ac92c221d",
       "version_major": 2,
       "version_minor": 0
      },
      "text/plain": [
       "  0%|          | 0/4 [00:00<?, ?it/s]"
      ]
     },
     "metadata": {},
     "output_type": "display_data"
    },
    {
     "name": "stdout",
     "output_type": "stream",
     "text": [
      "Train loss:   16.333147048950195\n",
      "Train  CER:   1.0\n",
      "Test  loss:   16.276155471801758\n",
      "Test   CER:   1.0\n",
      "Best   CER:   1.0\n",
      "([], ['x', 'f', 'n', '6', 'n'])\n",
      "([], ['d', 'm', 'w', '8', 'n'])\n",
      "([], ['7', 'x', 'c', 'y', 'd'])\n",
      "([], ['7', 'm', 'g', 'm', 'f'])\n",
      "([], ['c', 'e', 'n', '5', '5'])\n",
      "EPOCH 11/80: \n"
     ]
    },
    {
     "data": {
      "application/vnd.jupyter.widget-view+json": {
       "model_id": "a638316ccf424102809c8dca3cb6d0bf",
       "version_major": 2,
       "version_minor": 0
      },
      "text/plain": [
       "  0%|          | 0/14 [00:00<?, ?it/s]"
      ]
     },
     "metadata": {},
     "output_type": "display_data"
    },
    {
     "data": {
      "application/vnd.jupyter.widget-view+json": {
       "model_id": "f06401be750a4c5ab1fb554cd1bbd51e",
       "version_major": 2,
       "version_minor": 0
      },
      "text/plain": [
       "  0%|          | 0/4 [00:00<?, ?it/s]"
      ]
     },
     "metadata": {},
     "output_type": "display_data"
    },
    {
     "name": "stdout",
     "output_type": "stream",
     "text": [
      "Train loss:   16.38467788696289\n",
      "Train  CER:   1.0\n",
      "Test  loss:   16.275165557861328\n",
      "Test   CER:   1.0\n",
      "Best   CER:   1.0\n",
      "([], ['d', 'm', 'w', '8', 'n'])\n",
      "([], ['7', 'x', 'c', 'y', 'd'])\n",
      "([], ['7', 'm', 'g', 'm', 'f'])\n",
      "([], ['c', 'e', 'n', '5', '5'])\n",
      "([], ['g', '8', '8', '8', 'x'])\n",
      "EPOCH 12/80: \n"
     ]
    },
    {
     "data": {
      "application/vnd.jupyter.widget-view+json": {
       "model_id": "e622ce7121db4d469c0fad803bf7c936",
       "version_major": 2,
       "version_minor": 0
      },
      "text/plain": [
       "  0%|          | 0/14 [00:00<?, ?it/s]"
      ]
     },
     "metadata": {},
     "output_type": "display_data"
    },
    {
     "data": {
      "application/vnd.jupyter.widget-view+json": {
       "model_id": "9fa2e10ddf544ec790b3ef63829ddabc",
       "version_major": 2,
       "version_minor": 0
      },
      "text/plain": [
       "  0%|          | 0/4 [00:00<?, ?it/s]"
      ]
     },
     "metadata": {},
     "output_type": "display_data"
    },
    {
     "name": "stdout",
     "output_type": "stream",
     "text": [
      "Train loss:   16.30667495727539\n",
      "Train  CER:   1.0\n",
      "Test  loss:   16.272502899169922\n",
      "Test   CER:   1.0\n",
      "Best   CER:   1.0\n",
      "([], ['7', 'x', 'c', 'y', 'd'])\n",
      "([], ['7', 'm', 'g', 'm', 'f'])\n",
      "([], ['c', 'e', 'n', '5', '5'])\n",
      "([], ['g', '8', '8', '8', 'x'])\n",
      "([], ['f', 'g', '8', 'n', '4'])\n",
      "EPOCH 13/80: \n"
     ]
    },
    {
     "data": {
      "application/vnd.jupyter.widget-view+json": {
       "model_id": "546f4e7951d44fce9fbdac2dd424c3a3",
       "version_major": 2,
       "version_minor": 0
      },
      "text/plain": [
       "  0%|          | 0/14 [00:00<?, ?it/s]"
      ]
     },
     "metadata": {},
     "output_type": "display_data"
    },
    {
     "data": {
      "application/vnd.jupyter.widget-view+json": {
       "model_id": "2aff8c0ce66a4db394c0f11aa9cc990d",
       "version_major": 2,
       "version_minor": 0
      },
      "text/plain": [
       "  0%|          | 0/4 [00:00<?, ?it/s]"
      ]
     },
     "metadata": {},
     "output_type": "display_data"
    },
    {
     "name": "stdout",
     "output_type": "stream",
     "text": [
      "Train loss:   16.344858169555664\n",
      "Train  CER:   1.0\n",
      "Test  loss:   16.27143096923828\n",
      "Test   CER:   1.0\n",
      "Best   CER:   1.0\n",
      "([], ['7', 'm', 'g', 'm', 'f'])\n",
      "([], ['c', 'e', 'n', '5', '5'])\n",
      "([], ['g', '8', '8', '8', 'x'])\n",
      "([], ['f', 'g', '8', 'n', '4'])\n",
      "([], ['p', 'c', 'm', 'c', 'c'])\n",
      "EPOCH 14/80: \n"
     ]
    },
    {
     "data": {
      "application/vnd.jupyter.widget-view+json": {
       "model_id": "47777976695b408f9c27abc080061462",
       "version_major": 2,
       "version_minor": 0
      },
      "text/plain": [
       "  0%|          | 0/14 [00:00<?, ?it/s]"
      ]
     },
     "metadata": {},
     "output_type": "display_data"
    },
    {
     "data": {
      "application/vnd.jupyter.widget-view+json": {
       "model_id": "52151aa10321419b9726094d30dae67b",
       "version_major": 2,
       "version_minor": 0
      },
      "text/plain": [
       "  0%|          | 0/4 [00:00<?, ?it/s]"
      ]
     },
     "metadata": {},
     "output_type": "display_data"
    },
    {
     "name": "stdout",
     "output_type": "stream",
     "text": [
      "Train loss:   16.449859619140625\n",
      "Train  CER:   1.0\n",
      "Test  loss:   16.246110916137695\n",
      "Test   CER:   1.0\n",
      "Best   CER:   1.0\n",
      "([], ['c', 'e', 'n', '5', '5'])\n",
      "([], ['g', '8', '8', '8', 'x'])\n",
      "([], ['f', 'g', '8', 'n', '4'])\n",
      "([], ['p', 'c', 'm', 'c', 'c'])\n",
      "([], ['x', '3', '7', 'b', 'f'])\n",
      "EPOCH 15/80: \n"
     ]
    },
    {
     "data": {
      "application/vnd.jupyter.widget-view+json": {
       "model_id": "6ebdb7951d3b4ee09bf1b821bad28cb6",
       "version_major": 2,
       "version_minor": 0
      },
      "text/plain": [
       "  0%|          | 0/14 [00:00<?, ?it/s]"
      ]
     },
     "metadata": {},
     "output_type": "display_data"
    },
    {
     "data": {
      "application/vnd.jupyter.widget-view+json": {
       "model_id": "ea050d270fca468580577ae9a22da7f4",
       "version_major": 2,
       "version_minor": 0
      },
      "text/plain": [
       "  0%|          | 0/4 [00:00<?, ?it/s]"
      ]
     },
     "metadata": {},
     "output_type": "display_data"
    },
    {
     "name": "stdout",
     "output_type": "stream",
     "text": [
      "Train loss:   16.191146850585938\n",
      "Train  CER:   1.0\n",
      "Test  loss:   16.229736328125\n",
      "Test   CER:   1.0\n",
      "Best   CER:   1.0\n",
      "([], ['g', '8', '8', '8', 'x'])\n",
      "([], ['f', 'g', '8', 'n', '4'])\n",
      "([], ['p', 'c', 'm', 'c', 'c'])\n",
      "([], ['x', '3', '7', 'b', 'f'])\n",
      "([], ['m', 'w', 'x', 'w', 'p'])\n",
      "EPOCH 16/80: \n"
     ]
    },
    {
     "data": {
      "application/vnd.jupyter.widget-view+json": {
       "model_id": "4e2afacd34e444089f22880dd7694c76",
       "version_major": 2,
       "version_minor": 0
      },
      "text/plain": [
       "  0%|          | 0/14 [00:00<?, ?it/s]"
      ]
     },
     "metadata": {},
     "output_type": "display_data"
    },
    {
     "data": {
      "application/vnd.jupyter.widget-view+json": {
       "model_id": "afb75966531e47de811e1260e03ab950",
       "version_major": 2,
       "version_minor": 0
      },
      "text/plain": [
       "  0%|          | 0/4 [00:00<?, ?it/s]"
      ]
     },
     "metadata": {},
     "output_type": "display_data"
    },
    {
     "name": "stdout",
     "output_type": "stream",
     "text": [
      "Train loss:   16.174219131469727\n",
      "Train  CER:   1.0\n",
      "Test  loss:   16.158191680908203\n",
      "Test   CER:   1.0\n",
      "Best   CER:   1.0\n",
      "([], ['f', 'g', '8', 'n', '4'])\n",
      "([], ['p', 'c', 'm', 'c', 'c'])\n",
      "([], ['x', '3', '7', 'b', 'f'])\n",
      "([], ['m', 'w', 'x', 'w', 'p'])\n",
      "([], ['g', 'c', 'x', '6', 'f'])\n",
      "EPOCH 17/80: \n"
     ]
    },
    {
     "data": {
      "application/vnd.jupyter.widget-view+json": {
       "model_id": "0e560ebe4e544e3392b0e1107b7b9068",
       "version_major": 2,
       "version_minor": 0
      },
      "text/plain": [
       "  0%|          | 0/14 [00:00<?, ?it/s]"
      ]
     },
     "metadata": {},
     "output_type": "display_data"
    },
    {
     "data": {
      "application/vnd.jupyter.widget-view+json": {
       "model_id": "5fbc53660ea84535a4a882e3e5a6c073",
       "version_major": 2,
       "version_minor": 0
      },
      "text/plain": [
       "  0%|          | 0/4 [00:00<?, ?it/s]"
      ]
     },
     "metadata": {},
     "output_type": "display_data"
    },
    {
     "name": "stdout",
     "output_type": "stream",
     "text": [
      "Train loss:   16.158233642578125\n",
      "Train  CER:   1.0\n",
      "Test  loss:   17.000869750976562\n",
      "Test   CER:   1.0\n",
      "Best   CER:   1.0\n",
      "([], ['p', 'c', 'm', 'c', 'c'])\n",
      "([], ['x', '3', '7', 'b', 'f'])\n",
      "([], ['m', 'w', 'x', 'w', 'p'])\n",
      "([], ['g', 'c', 'x', '6', 'f'])\n",
      "([], ['g', '7', 'g', 'n', 'f'])\n",
      "EPOCH 18/80: \n"
     ]
    },
    {
     "data": {
      "application/vnd.jupyter.widget-view+json": {
       "model_id": "b42f43419d2b49e49207ea22aa651c60",
       "version_major": 2,
       "version_minor": 0
      },
      "text/plain": [
       "  0%|          | 0/14 [00:00<?, ?it/s]"
      ]
     },
     "metadata": {},
     "output_type": "display_data"
    },
    {
     "data": {
      "application/vnd.jupyter.widget-view+json": {
       "model_id": "d453fda752dd478f946a10e37ea3f379",
       "version_major": 2,
       "version_minor": 0
      },
      "text/plain": [
       "  0%|          | 0/4 [00:00<?, ?it/s]"
      ]
     },
     "metadata": {},
     "output_type": "display_data"
    },
    {
     "name": "stdout",
     "output_type": "stream",
     "text": [
      "Train loss:   15.851497650146484\n",
      "Train  CER:   1.0\n",
      "Test  loss:   19.391916275024414\n",
      "Test   CER:   1.0\n",
      "Best   CER:   1.0\n",
      "([], ['x', '3', '7', 'b', 'f'])\n",
      "([], ['m', 'w', 'x', 'w', 'p'])\n",
      "([], ['g', 'c', 'x', '6', 'f'])\n",
      "([], ['g', '7', 'g', 'n', 'f'])\n",
      "([], ['p', 'c', 'p', 'g', '6'])\n",
      "EPOCH 19/80: \n"
     ]
    },
    {
     "data": {
      "application/vnd.jupyter.widget-view+json": {
       "model_id": "fbab6c41600e4c8bb413008121301f14",
       "version_major": 2,
       "version_minor": 0
      },
      "text/plain": [
       "  0%|          | 0/14 [00:00<?, ?it/s]"
      ]
     },
     "metadata": {},
     "output_type": "display_data"
    },
    {
     "data": {
      "application/vnd.jupyter.widget-view+json": {
       "model_id": "c09e679d20d24d6fb6c053f35567094b",
       "version_major": 2,
       "version_minor": 0
      },
      "text/plain": [
       "  0%|          | 0/4 [00:00<?, ?it/s]"
      ]
     },
     "metadata": {},
     "output_type": "display_data"
    },
    {
     "name": "stdout",
     "output_type": "stream",
     "text": [
      "Train loss:   15.711494445800781\n",
      "Train  CER:   1.0\n",
      "Test  loss:   16.688486099243164\n",
      "Test   CER:   1.0\n",
      "Best   CER:   1.0\n",
      "([], ['m', 'w', 'x', 'w', 'p'])\n",
      "([], ['g', 'c', 'x', '6', 'f'])\n",
      "([], ['g', '7', 'g', 'n', 'f'])\n",
      "([], ['p', 'c', 'p', 'g', '6'])\n",
      "([], ['f', 'g', '8', 'n', '4'])\n",
      "EPOCH 20/80: \n"
     ]
    },
    {
     "data": {
      "application/vnd.jupyter.widget-view+json": {
       "model_id": "d84b3c0066384f1f88fa7cd1aa70fa69",
       "version_major": 2,
       "version_minor": 0
      },
      "text/plain": [
       "  0%|          | 0/14 [00:00<?, ?it/s]"
      ]
     },
     "metadata": {},
     "output_type": "display_data"
    },
    {
     "data": {
      "application/vnd.jupyter.widget-view+json": {
       "model_id": "de30908170c347dabd85a69ae4cbe8b1",
       "version_major": 2,
       "version_minor": 0
      },
      "text/plain": [
       "  0%|          | 0/4 [00:00<?, ?it/s]"
      ]
     },
     "metadata": {},
     "output_type": "display_data"
    },
    {
     "name": "stdout",
     "output_type": "stream",
     "text": [
      "Train loss:   15.388526916503906\n",
      "Train  CER:   1.0\n",
      "Test  loss:   15.23455810546875\n",
      "Test   CER:   1.0\n",
      "Best   CER:   1.0\n",
      "([], ['g', 'c', 'x', '6', 'f'])\n",
      "([], ['g', '7', 'g', 'n', 'f'])\n",
      "([], ['p', 'c', 'p', 'g', '6'])\n",
      "([], ['f', 'g', '8', 'n', '4'])\n",
      "([], ['b', 'x', 'x', 'f', 'c'])\n",
      "EPOCH 21/80: \n"
     ]
    },
    {
     "data": {
      "application/vnd.jupyter.widget-view+json": {
       "model_id": "36983eca10514fb09d4b48de2bc87d80",
       "version_major": 2,
       "version_minor": 0
      },
      "text/plain": [
       "  0%|          | 0/14 [00:00<?, ?it/s]"
      ]
     },
     "metadata": {},
     "output_type": "display_data"
    },
    {
     "data": {
      "application/vnd.jupyter.widget-view+json": {
       "model_id": "0d364654e19c47a5aeae9a67e4997ebd",
       "version_major": 2,
       "version_minor": 0
      },
      "text/plain": [
       "  0%|          | 0/4 [00:00<?, ?it/s]"
      ]
     },
     "metadata": {},
     "output_type": "display_data"
    },
    {
     "name": "stdout",
     "output_type": "stream",
     "text": [
      "Train loss:   15.328665733337402\n",
      "Train  CER:   0.9953271\n",
      "Test  loss:   15.994272232055664\n",
      "Test   CER:   0.988785\n",
      "Best   CER:   0.988785\n",
      "([], ['g', '7', 'g', 'n', 'f'])\n",
      "([], ['p', 'c', 'p', 'g', '6'])\n",
      "([], ['f', 'g', '8', 'n', '4'])\n",
      "([], ['b', 'x', 'x', 'f', 'c'])\n",
      "(['5'], ['x', '3', '7', 'b', 'f'])\n",
      "EPOCH 22/80: \n"
     ]
    },
    {
     "data": {
      "application/vnd.jupyter.widget-view+json": {
       "model_id": "40b8560d6758453a8026591c97f0c9e6",
       "version_major": 2,
       "version_minor": 0
      },
      "text/plain": [
       "  0%|          | 0/14 [00:00<?, ?it/s]"
      ]
     },
     "metadata": {},
     "output_type": "display_data"
    },
    {
     "data": {
      "application/vnd.jupyter.widget-view+json": {
       "model_id": "62166d26b71c4c5c8f89e42fa0e4248d",
       "version_major": 2,
       "version_minor": 0
      },
      "text/plain": [
       "  0%|          | 0/4 [00:00<?, ?it/s]"
      ]
     },
     "metadata": {},
     "output_type": "display_data"
    },
    {
     "name": "stdout",
     "output_type": "stream",
     "text": [
      "Train loss:   15.014924049377441\n",
      "Train  CER:   0.98761684\n",
      "Test  loss:   15.184446334838867\n",
      "Test   CER:   0.9766355\n",
      "Best   CER:   0.9766355\n",
      "([], ['p', 'c', 'p', 'g', '6'])\n",
      "([], ['f', 'g', '8', 'n', '4'])\n",
      "([], ['b', 'x', 'x', 'f', 'c'])\n",
      "(['5'], ['x', '3', '7', 'b', 'f'])\n",
      "([], ['c', 'p', 'c', '8', 'c'])\n",
      "EPOCH 23/80: \n"
     ]
    },
    {
     "data": {
      "application/vnd.jupyter.widget-view+json": {
       "model_id": "089075ccc4314e9b8d2815ab168927e4",
       "version_major": 2,
       "version_minor": 0
      },
      "text/plain": [
       "  0%|          | 0/14 [00:00<?, ?it/s]"
      ]
     },
     "metadata": {},
     "output_type": "display_data"
    },
    {
     "data": {
      "application/vnd.jupyter.widget-view+json": {
       "model_id": "1f577c8f43d94db2b71270a25b1fb3bf",
       "version_major": 2,
       "version_minor": 0
      },
      "text/plain": [
       "  0%|          | 0/4 [00:00<?, ?it/s]"
      ]
     },
     "metadata": {},
     "output_type": "display_data"
    },
    {
     "name": "stdout",
     "output_type": "stream",
     "text": [
      "Train loss:   14.946595191955566\n",
      "Train  CER:   0.9733645\n",
      "Test  loss:   15.352718353271484\n",
      "Test   CER:   0.99626166\n",
      "Best   CER:   0.9766355\n",
      "([], ['f', 'g', '8', 'n', '4'])\n",
      "([], ['b', 'x', 'x', 'f', 'c'])\n",
      "(['5'], ['x', '3', '7', 'b', 'f'])\n",
      "([], ['c', 'p', 'c', '8', 'c'])\n",
      "([], ['m', 'n', '5', 'c', '4'])\n",
      "EPOCH 24/80: \n"
     ]
    },
    {
     "data": {
      "application/vnd.jupyter.widget-view+json": {
       "model_id": "4615222a8b2c4f2f9d545e014b13c405",
       "version_major": 2,
       "version_minor": 0
      },
      "text/plain": [
       "  0%|          | 0/14 [00:00<?, ?it/s]"
      ]
     },
     "metadata": {},
     "output_type": "display_data"
    },
    {
     "data": {
      "application/vnd.jupyter.widget-view+json": {
       "model_id": "964636ba3bd547319226de53fa5dd6f8",
       "version_major": 2,
       "version_minor": 0
      },
      "text/plain": [
       "  0%|          | 0/4 [00:00<?, ?it/s]"
      ]
     },
     "metadata": {},
     "output_type": "display_data"
    },
    {
     "name": "stdout",
     "output_type": "stream",
     "text": [
      "Train loss:   14.693340301513672\n",
      "Train  CER:   0.9665888\n",
      "Test  loss:   16.451675415039062\n",
      "Test   CER:   0.964486\n",
      "Best   CER:   0.964486\n",
      "([], ['b', 'x', 'x', 'f', 'c'])\n",
      "(['5'], ['x', '3', '7', 'b', 'f'])\n",
      "([], ['c', 'p', 'c', '8', 'c'])\n",
      "([], ['m', 'n', '5', 'c', '4'])\n",
      "(['b'], ['d', 'n', 'm', 'd', '8'])\n",
      "EPOCH 25/80: \n"
     ]
    },
    {
     "data": {
      "application/vnd.jupyter.widget-view+json": {
       "model_id": "714d12f6c7f64f359434a74c4db3c67d",
       "version_major": 2,
       "version_minor": 0
      },
      "text/plain": [
       "  0%|          | 0/14 [00:00<?, ?it/s]"
      ]
     },
     "metadata": {},
     "output_type": "display_data"
    },
    {
     "data": {
      "application/vnd.jupyter.widget-view+json": {
       "model_id": "8d000ec8978e41eb883b74e2387a2f2f",
       "version_major": 2,
       "version_minor": 0
      },
      "text/plain": [
       "  0%|          | 0/4 [00:00<?, ?it/s]"
      ]
     },
     "metadata": {},
     "output_type": "display_data"
    },
    {
     "name": "stdout",
     "output_type": "stream",
     "text": [
      "Train loss:   14.346843719482422\n",
      "Train  CER:   0.94042057\n",
      "Test  loss:   13.92059326171875\n",
      "Test   CER:   0.94859815\n",
      "Best   CER:   0.94859815\n",
      "(['5'], ['x', '3', '7', 'b', 'f'])\n",
      "([], ['c', 'p', 'c', '8', 'c'])\n",
      "([], ['m', 'n', '5', 'c', '4'])\n",
      "(['b'], ['d', 'n', 'm', 'd', '8'])\n",
      "([], ['8', '5', 'd', 'x', 'n'])\n",
      "EPOCH 26/80: \n"
     ]
    },
    {
     "data": {
      "application/vnd.jupyter.widget-view+json": {
       "model_id": "e6d8ff73c5d04438bb6b019ec4290118",
       "version_major": 2,
       "version_minor": 0
      },
      "text/plain": [
       "  0%|          | 0/14 [00:00<?, ?it/s]"
      ]
     },
     "metadata": {},
     "output_type": "display_data"
    },
    {
     "data": {
      "application/vnd.jupyter.widget-view+json": {
       "model_id": "cc6db05b66da4fd390c3b713f74bfee6",
       "version_major": 2,
       "version_minor": 0
      },
      "text/plain": [
       "  0%|          | 0/4 [00:00<?, ?it/s]"
      ]
     },
     "metadata": {},
     "output_type": "display_data"
    },
    {
     "name": "stdout",
     "output_type": "stream",
     "text": [
      "Train loss:   14.112154960632324\n",
      "Train  CER:   0.92313087\n",
      "Test  loss:   13.566259384155273\n",
      "Test   CER:   0.91775703\n",
      "Best   CER:   0.91775703\n",
      "([], ['c', 'p', 'c', '8', 'c'])\n",
      "([], ['m', 'n', '5', 'c', '4'])\n",
      "(['b'], ['d', 'n', 'm', 'd', '8'])\n",
      "([], ['8', '5', 'd', 'x', 'n'])\n",
      "(['2'], ['3', '6', '8', 'y', '5'])\n",
      "EPOCH 27/80: \n"
     ]
    },
    {
     "data": {
      "application/vnd.jupyter.widget-view+json": {
       "model_id": "a41649317c004a8795a7b7412469b847",
       "version_major": 2,
       "version_minor": 0
      },
      "text/plain": [
       "  0%|          | 0/14 [00:00<?, ?it/s]"
      ]
     },
     "metadata": {},
     "output_type": "display_data"
    },
    {
     "data": {
      "application/vnd.jupyter.widget-view+json": {
       "model_id": "59b455e280ca4284bbc22403e59b56d1",
       "version_major": 2,
       "version_minor": 0
      },
      "text/plain": [
       "  0%|          | 0/4 [00:00<?, ?it/s]"
      ]
     },
     "metadata": {},
     "output_type": "display_data"
    },
    {
     "name": "stdout",
     "output_type": "stream",
     "text": [
      "Train loss:   13.538365364074707\n",
      "Train  CER:   0.89392525\n",
      "Test  loss:   13.325657844543457\n",
      "Test   CER:   0.88037384\n",
      "Best   CER:   0.88037384\n",
      "([], ['m', 'n', '5', 'c', '4'])\n",
      "(['b'], ['d', 'n', 'm', 'd', '8'])\n",
      "([], ['8', '5', 'd', 'x', 'n'])\n",
      "(['2'], ['3', '6', '8', 'y', '5'])\n",
      "([], ['7', 'x', 'c', 'y', 'd'])\n",
      "EPOCH 28/80: \n"
     ]
    },
    {
     "data": {
      "application/vnd.jupyter.widget-view+json": {
       "model_id": "687543b5f77b4f8c95a4ed91a6ce720d",
       "version_major": 2,
       "version_minor": 0
      },
      "text/plain": [
       "  0%|          | 0/14 [00:00<?, ?it/s]"
      ]
     },
     "metadata": {},
     "output_type": "display_data"
    },
    {
     "data": {
      "application/vnd.jupyter.widget-view+json": {
       "model_id": "b2ba6d35433a499cb9c8310115eabe8b",
       "version_major": 2,
       "version_minor": 0
      },
      "text/plain": [
       "  0%|          | 0/4 [00:00<?, ?it/s]"
      ]
     },
     "metadata": {},
     "output_type": "display_data"
    },
    {
     "name": "stdout",
     "output_type": "stream",
     "text": [
      "Train loss:   13.095479011535645\n",
      "Train  CER:   0.8668224\n",
      "Test  loss:   14.117304801940918\n",
      "Test   CER:   0.8495327\n",
      "Best   CER:   0.8495327\n",
      "(['b'], ['d', 'n', 'm', 'd', '8'])\n",
      "([], ['8', '5', 'd', 'x', 'n'])\n",
      "(['2'], ['3', '6', '8', 'y', '5'])\n",
      "([], ['7', 'x', 'c', 'y', 'd'])\n",
      "(['2', 'n'], ['2', '3', 'm', 'd', 'g'])\n",
      "EPOCH 29/80: \n"
     ]
    },
    {
     "data": {
      "application/vnd.jupyter.widget-view+json": {
       "model_id": "1f21451a593f42708e52fb9c54e106bd",
       "version_major": 2,
       "version_minor": 0
      },
      "text/plain": [
       "  0%|          | 0/14 [00:00<?, ?it/s]"
      ]
     },
     "metadata": {},
     "output_type": "display_data"
    },
    {
     "data": {
      "application/vnd.jupyter.widget-view+json": {
       "model_id": "faf9d368a5ca41569cae438af92b963c",
       "version_major": 2,
       "version_minor": 0
      },
      "text/plain": [
       "  0%|          | 0/4 [00:00<?, ?it/s]"
      ]
     },
     "metadata": {},
     "output_type": "display_data"
    },
    {
     "name": "stdout",
     "output_type": "stream",
     "text": [
      "Train loss:   12.60589599609375\n",
      "Train  CER:   0.8245327\n",
      "Test  loss:   11.113627433776855\n",
      "Test   CER:   0.77102804\n",
      "Best   CER:   0.77102804\n",
      "([], ['8', '5', 'd', 'x', 'n'])\n",
      "(['2'], ['3', '6', '8', 'y', '5'])\n",
      "([], ['7', 'x', 'c', 'y', 'd'])\n",
      "(['2', 'n'], ['2', '3', 'm', 'd', 'g'])\n",
      "(['g', 'p'], ['c', 'g', '5', 'd', 'd'])\n",
      "EPOCH 30/80: \n"
     ]
    },
    {
     "data": {
      "application/vnd.jupyter.widget-view+json": {
       "model_id": "5984d0d60c4b4801a54103564a3ba962",
       "version_major": 2,
       "version_minor": 0
      },
      "text/plain": [
       "  0%|          | 0/14 [00:00<?, ?it/s]"
      ]
     },
     "metadata": {},
     "output_type": "display_data"
    },
    {
     "data": {
      "application/vnd.jupyter.widget-view+json": {
       "model_id": "340d005151264f82b88d6dd26654d0ce",
       "version_major": 2,
       "version_minor": 0
      },
      "text/plain": [
       "  0%|          | 0/4 [00:00<?, ?it/s]"
      ]
     },
     "metadata": {},
     "output_type": "display_data"
    },
    {
     "name": "stdout",
     "output_type": "stream",
     "text": [
      "Train loss:   12.191157341003418\n",
      "Train  CER:   0.78925234\n",
      "Test  loss:   14.096967697143555\n",
      "Test   CER:   0.828972\n",
      "Best   CER:   0.77102804\n",
      "(['2'], ['3', '6', '8', 'y', '5'])\n",
      "([], ['7', 'x', 'c', 'y', 'd'])\n",
      "(['2', 'n'], ['2', '3', 'm', 'd', 'g'])\n",
      "(['g', 'p'], ['c', 'g', '5', 'd', 'd'])\n",
      "(['b', 'g', '5'], ['e', 'e', 'n', '2', '3'])\n",
      "EPOCH 31/80: \n"
     ]
    },
    {
     "data": {
      "application/vnd.jupyter.widget-view+json": {
       "model_id": "04445260f9f94d32b302826b4273102c",
       "version_major": 2,
       "version_minor": 0
      },
      "text/plain": [
       "  0%|          | 0/14 [00:00<?, ?it/s]"
      ]
     },
     "metadata": {},
     "output_type": "display_data"
    },
    {
     "data": {
      "application/vnd.jupyter.widget-view+json": {
       "model_id": "73f8598ecd634b859ac6a7b2eb3d0a45",
       "version_major": 2,
       "version_minor": 0
      },
      "text/plain": [
       "  0%|          | 0/4 [00:00<?, ?it/s]"
      ]
     },
     "metadata": {},
     "output_type": "display_data"
    },
    {
     "name": "stdout",
     "output_type": "stream",
     "text": [
      "Train loss:   10.21669864654541\n",
      "Train  CER:   0.71121496\n",
      "Test  loss:   9.27011775970459\n",
      "Test   CER:   0.6523365\n",
      "Best   CER:   0.6523365\n",
      "([], ['7', 'x', 'c', 'y', 'd'])\n",
      "(['2', 'n'], ['2', '3', 'm', 'd', 'g'])\n",
      "(['g', 'p'], ['c', 'g', '5', 'd', 'd'])\n",
      "(['b', 'g', '5'], ['e', 'e', 'n', '2', '3'])\n",
      "(['8', 'n', 'g'], ['e', 'n', 'g', '5', '3'])\n",
      "EPOCH 32/80: \n"
     ]
    },
    {
     "data": {
      "application/vnd.jupyter.widget-view+json": {
       "model_id": "751675c3dfcc4572ae872f8688bc0cf1",
       "version_major": 2,
       "version_minor": 0
      },
      "text/plain": [
       "  0%|          | 0/14 [00:00<?, ?it/s]"
      ]
     },
     "metadata": {},
     "output_type": "display_data"
    },
    {
     "data": {
      "application/vnd.jupyter.widget-view+json": {
       "model_id": "27416790ac4b4413b12706dcb491c7f5",
       "version_major": 2,
       "version_minor": 0
      },
      "text/plain": [
       "  0%|          | 0/4 [00:00<?, ?it/s]"
      ]
     },
     "metadata": {},
     "output_type": "display_data"
    },
    {
     "name": "stdout",
     "output_type": "stream",
     "text": [
      "Train loss:   8.77430534362793\n",
      "Train  CER:   0.60607475\n",
      "Test  loss:   8.823790550231934\n",
      "Test   CER:   0.5850467\n",
      "Best   CER:   0.5850467\n",
      "(['2', 'n'], ['2', '3', 'm', 'd', 'g'])\n",
      "(['g', 'p'], ['c', 'g', '5', 'd', 'd'])\n",
      "(['b', 'g', '5'], ['e', 'e', 'n', '2', '3'])\n",
      "(['8', 'n', 'g'], ['e', 'n', 'g', '5', '3'])\n",
      "(['6', 'g', 'm', 'n'], ['x', 'y', 'm', 'f', 'n'])\n",
      "EPOCH 33/80: \n"
     ]
    },
    {
     "data": {
      "application/vnd.jupyter.widget-view+json": {
       "model_id": "5aed54e354f94f1d8d40327a0d4c3c92",
       "version_major": 2,
       "version_minor": 0
      },
      "text/plain": [
       "  0%|          | 0/14 [00:00<?, ?it/s]"
      ]
     },
     "metadata": {},
     "output_type": "display_data"
    },
    {
     "data": {
      "application/vnd.jupyter.widget-view+json": {
       "model_id": "dd87d74f98ef4eee8e95157169b8c80b",
       "version_major": 2,
       "version_minor": 0
      },
      "text/plain": [
       "  0%|          | 0/4 [00:00<?, ?it/s]"
      ]
     },
     "metadata": {},
     "output_type": "display_data"
    },
    {
     "name": "stdout",
     "output_type": "stream",
     "text": [
      "Train loss:   7.540781021118164\n",
      "Train  CER:   0.5224299\n",
      "Test  loss:   6.522665977478027\n",
      "Test   CER:   0.44859812\n",
      "Best   CER:   0.44859812\n",
      "(['g', 'p'], ['c', 'g', '5', 'd', 'd'])\n",
      "(['b', 'g', '5'], ['e', 'e', 'n', '2', '3'])\n",
      "(['8', 'n', 'g'], ['e', 'n', 'g', '5', '3'])\n",
      "(['6', 'g', 'm', 'n'], ['x', 'y', 'm', 'f', 'n'])\n",
      "(['2', '5', 'p'], ['2', '5', 'e', 'g', 'p'])\n",
      "EPOCH 34/80: \n"
     ]
    },
    {
     "data": {
      "application/vnd.jupyter.widget-view+json": {
       "model_id": "fba4085557934b9d9aac3b4c1ab1f0a6",
       "version_major": 2,
       "version_minor": 0
      },
      "text/plain": [
       "  0%|          | 0/14 [00:00<?, ?it/s]"
      ]
     },
     "metadata": {},
     "output_type": "display_data"
    },
    {
     "data": {
      "application/vnd.jupyter.widget-view+json": {
       "model_id": "e03ba36f710844249723f1439d1c7286",
       "version_major": 2,
       "version_minor": 0
      },
      "text/plain": [
       "  0%|          | 0/4 [00:00<?, ?it/s]"
      ]
     },
     "metadata": {},
     "output_type": "display_data"
    },
    {
     "name": "stdout",
     "output_type": "stream",
     "text": [
      "Train loss:   6.359309196472168\n",
      "Train  CER:   0.45537382\n",
      "Test  loss:   5.998409271240234\n",
      "Test   CER:   0.4140187\n",
      "Best   CER:   0.4140187\n",
      "(['b', 'g', '5'], ['e', 'e', 'n', '2', '3'])\n",
      "(['8', 'n', 'g'], ['e', 'n', 'g', '5', '3'])\n",
      "(['6', 'g', 'm', 'n'], ['x', 'y', 'm', 'f', 'n'])\n",
      "(['2', '5', 'p'], ['2', '5', 'e', 'g', 'p'])\n",
      "(['2', '3', '5', 'g'], ['2', '3', '5', '6', 'g'])\n",
      "EPOCH 35/80: \n"
     ]
    },
    {
     "data": {
      "application/vnd.jupyter.widget-view+json": {
       "model_id": "0a1c6176829641f490c2d4d2c4b70867",
       "version_major": 2,
       "version_minor": 0
      },
      "text/plain": [
       "  0%|          | 0/14 [00:00<?, ?it/s]"
      ]
     },
     "metadata": {},
     "output_type": "display_data"
    },
    {
     "data": {
      "application/vnd.jupyter.widget-view+json": {
       "model_id": "1ce047847181488986169716aeb8a747",
       "version_major": 2,
       "version_minor": 0
      },
      "text/plain": [
       "  0%|          | 0/4 [00:00<?, ?it/s]"
      ]
     },
     "metadata": {},
     "output_type": "display_data"
    },
    {
     "name": "stdout",
     "output_type": "stream",
     "text": [
      "Train loss:   4.494145393371582\n",
      "Train  CER:   0.32009345\n",
      "Test  loss:   4.785444736480713\n",
      "Test   CER:   0.34205607\n",
      "Best   CER:   0.34205607\n",
      "(['8', 'n', 'g'], ['e', 'n', 'g', '5', '3'])\n",
      "(['6', 'g', 'm', 'n'], ['x', 'y', 'm', 'f', 'n'])\n",
      "(['2', '5', 'p'], ['2', '5', 'e', 'g', 'p'])\n",
      "(['2', '3', '5', 'g'], ['2', '3', '5', '6', 'g'])\n",
      "(['x', '8', 'b', '6', 'n'], ['c', '4', 'm', 'c', 'm'])\n",
      "EPOCH 36/80: \n"
     ]
    },
    {
     "data": {
      "application/vnd.jupyter.widget-view+json": {
       "model_id": "5f960739f55347fbbc119e9d202fc675",
       "version_major": 2,
       "version_minor": 0
      },
      "text/plain": [
       "  0%|          | 0/14 [00:00<?, ?it/s]"
      ]
     },
     "metadata": {},
     "output_type": "display_data"
    },
    {
     "data": {
      "application/vnd.jupyter.widget-view+json": {
       "model_id": "68746980caec455a8099e6b7af55deaf",
       "version_major": 2,
       "version_minor": 0
      },
      "text/plain": [
       "  0%|          | 0/4 [00:00<?, ?it/s]"
      ]
     },
     "metadata": {},
     "output_type": "display_data"
    },
    {
     "name": "stdout",
     "output_type": "stream",
     "text": [
      "Train loss:   3.6261913776397705\n",
      "Train  CER:   0.2504673\n",
      "Test  loss:   3.357177257537842\n",
      "Test   CER:   0.2411215\n",
      "Best   CER:   0.2411215\n",
      "(['6', 'g', 'm', 'n'], ['x', 'y', 'm', 'f', 'n'])\n",
      "(['2', '5', 'p'], ['2', '5', 'e', 'g', 'p'])\n",
      "(['2', '3', '5', 'g'], ['2', '3', '5', '6', 'g'])\n",
      "(['x', '8', 'b', '6', 'n'], ['c', '4', 'm', 'c', 'm'])\n",
      "(['5', 'n', 'g', '6', 'c'], ['5', 'n', 'g', '6', 'e'])\n",
      "EPOCH 37/80: \n"
     ]
    },
    {
     "data": {
      "application/vnd.jupyter.widget-view+json": {
       "model_id": "360bd9db855d402a8fb1a552ff554ee9",
       "version_major": 2,
       "version_minor": 0
      },
      "text/plain": [
       "  0%|          | 0/14 [00:00<?, ?it/s]"
      ]
     },
     "metadata": {},
     "output_type": "display_data"
    },
    {
     "data": {
      "application/vnd.jupyter.widget-view+json": {
       "model_id": "5a511487457f4f64a38e22978d946a30",
       "version_major": 2,
       "version_minor": 0
      },
      "text/plain": [
       "  0%|          | 0/4 [00:00<?, ?it/s]"
      ]
     },
     "metadata": {},
     "output_type": "display_data"
    },
    {
     "name": "stdout",
     "output_type": "stream",
     "text": [
      "Train loss:   1.9769082069396973\n",
      "Train  CER:   0.12803738\n",
      "Test  loss:   2.311516761779785\n",
      "Test   CER:   0.14112149\n",
      "Best   CER:   0.14112149\n",
      "(['2', '5', 'p'], ['2', '5', 'e', 'g', 'p'])\n",
      "(['2', '3', '5', 'g'], ['2', '3', '5', '6', 'g'])\n",
      "(['x', '8', 'b', '6', 'n'], ['c', '4', 'm', 'c', 'm'])\n",
      "(['5', 'n', 'g', '6', 'c'], ['5', 'n', 'g', '6', 'e'])\n",
      "(['p', 'w', 'w', '5'], ['p', 'w', 'n', '5', 'e'])\n",
      "EPOCH 38/80: \n"
     ]
    },
    {
     "data": {
      "application/vnd.jupyter.widget-view+json": {
       "model_id": "b8e726d887b543fe9cdba72e9f4806dc",
       "version_major": 2,
       "version_minor": 0
      },
      "text/plain": [
       "  0%|          | 0/14 [00:00<?, ?it/s]"
      ]
     },
     "metadata": {},
     "output_type": "display_data"
    },
    {
     "data": {
      "application/vnd.jupyter.widget-view+json": {
       "model_id": "5afdf0401a5442b1a2366915f1c4fa4c",
       "version_major": 2,
       "version_minor": 0
      },
      "text/plain": [
       "  0%|          | 0/4 [00:00<?, ?it/s]"
      ]
     },
     "metadata": {},
     "output_type": "display_data"
    },
    {
     "name": "stdout",
     "output_type": "stream",
     "text": [
      "Train loss:   1.6774749755859375\n",
      "Train  CER:   0.1067757\n",
      "Test  loss:   1.6165614128112793\n",
      "Test   CER:   0.10747664\n",
      "Best   CER:   0.10747664\n",
      "(['2', '3', '5', 'g'], ['2', '3', '5', '6', 'g'])\n",
      "(['x', '8', 'b', '6', 'n'], ['c', '4', 'm', 'c', 'm'])\n",
      "(['5', 'n', 'g', '6', 'c'], ['5', 'n', 'g', '6', 'e'])\n",
      "(['p', 'w', 'w', '5'], ['p', 'w', 'n', '5', 'e'])\n",
      "(['f', 'y', '3', 'c', 'x'], ['d', 'y', '3', 'c', 'x'])\n",
      "EPOCH 39/80: \n"
     ]
    },
    {
     "data": {
      "application/vnd.jupyter.widget-view+json": {
       "model_id": "7e1fcbc126884bc29cb891c2ae34534b",
       "version_major": 2,
       "version_minor": 0
      },
      "text/plain": [
       "  0%|          | 0/14 [00:00<?, ?it/s]"
      ]
     },
     "metadata": {},
     "output_type": "display_data"
    },
    {
     "data": {
      "application/vnd.jupyter.widget-view+json": {
       "model_id": "af9ec99272234c92999c1b6f14df71ac",
       "version_major": 2,
       "version_minor": 0
      },
      "text/plain": [
       "  0%|          | 0/4 [00:00<?, ?it/s]"
      ]
     },
     "metadata": {},
     "output_type": "display_data"
    },
    {
     "name": "stdout",
     "output_type": "stream",
     "text": [
      "Train loss:   0.9643334746360779\n",
      "Train  CER:   0.05864486\n",
      "Test  loss:   1.3847274780273438\n",
      "Test   CER:   0.1\n",
      "Best   CER:   0.1\n",
      "(['x', '8', 'b', '6', 'n'], ['c', '4', 'm', 'c', 'm'])\n",
      "(['5', 'n', 'g', '6', 'c'], ['5', 'n', 'g', '6', 'e'])\n",
      "(['p', 'w', 'w', '5'], ['p', 'w', 'n', '5', 'e'])\n",
      "(['f', 'y', '3', 'c', 'x'], ['d', 'y', '3', 'c', 'x'])\n",
      "(['n', '6', 'f', '4', 'b'], ['n', '6', 'f', '4', 'b'])\n",
      "EPOCH 40/80: \n"
     ]
    },
    {
     "data": {
      "application/vnd.jupyter.widget-view+json": {
       "model_id": "e6caba8fd6284c70b6e5a6671e6f6d0e",
       "version_major": 2,
       "version_minor": 0
      },
      "text/plain": [
       "  0%|          | 0/14 [00:00<?, ?it/s]"
      ]
     },
     "metadata": {},
     "output_type": "display_data"
    },
    {
     "data": {
      "application/vnd.jupyter.widget-view+json": {
       "model_id": "e3328d9e491349fba0df11e62eb604ed",
       "version_major": 2,
       "version_minor": 0
      },
      "text/plain": [
       "  0%|          | 0/4 [00:00<?, ?it/s]"
      ]
     },
     "metadata": {},
     "output_type": "display_data"
    },
    {
     "name": "stdout",
     "output_type": "stream",
     "text": [
      "Train loss:   0.9283455610275269\n",
      "Train  CER:   0.06378505\n",
      "Test  loss:   3.411851644515991\n",
      "Test   CER:   0.21028037\n",
      "Best   CER:   0.1\n",
      "(['5', 'n', 'g', '6', 'c'], ['5', 'n', 'g', '6', 'e'])\n",
      "(['p', 'w', 'w', '5'], ['p', 'w', 'n', '5', 'e'])\n",
      "(['f', 'y', '3', 'c', 'x'], ['d', 'y', '3', 'c', 'x'])\n",
      "(['n', '6', 'f', '4', 'b'], ['n', '6', 'f', '4', 'b'])\n",
      "(['n', '6', 'f', '4', 'f', 'b'], ['n', '6', 'f', '4', 'b'])\n",
      "EPOCH 41/80: \n"
     ]
    },
    {
     "data": {
      "application/vnd.jupyter.widget-view+json": {
       "model_id": "0da0d59894ec47b1be2bfdc21a9ecdeb",
       "version_major": 2,
       "version_minor": 0
      },
      "text/plain": [
       "  0%|          | 0/14 [00:00<?, ?it/s]"
      ]
     },
     "metadata": {},
     "output_type": "display_data"
    },
    {
     "data": {
      "application/vnd.jupyter.widget-view+json": {
       "model_id": "4930636c769d42e7b24bc141751b21d6",
       "version_major": 2,
       "version_minor": 0
      },
      "text/plain": [
       "  0%|          | 0/4 [00:00<?, ?it/s]"
      ]
     },
     "metadata": {},
     "output_type": "display_data"
    },
    {
     "name": "stdout",
     "output_type": "stream",
     "text": [
      "Train loss:   0.4946146011352539\n",
      "Train  CER:   0.025\n",
      "Test  loss:   0.7702405452728271\n",
      "Test   CER:   0.045794394\n",
      "Best   CER:   0.045794394\n",
      "(['p', 'w', 'w', '5'], ['p', 'w', 'n', '5', 'e'])\n",
      "(['f', 'y', '3', 'c', 'x'], ['d', 'y', '3', 'c', 'x'])\n",
      "(['n', '6', 'f', '4', 'b'], ['n', '6', 'f', '4', 'b'])\n",
      "(['n', '6', 'f', '4', 'f', 'b'], ['n', '6', 'f', '4', 'b'])\n",
      "(['3', '3', 'n', 'g', '4'], ['3', '3', 'n', 'g', '4'])\n",
      "EPOCH 42/80: \n"
     ]
    },
    {
     "data": {
      "application/vnd.jupyter.widget-view+json": {
       "model_id": "b650820f5a9147aeb143bcf5984c12ef",
       "version_major": 2,
       "version_minor": 0
      },
      "text/plain": [
       "  0%|          | 0/14 [00:00<?, ?it/s]"
      ]
     },
     "metadata": {},
     "output_type": "display_data"
    },
    {
     "data": {
      "application/vnd.jupyter.widget-view+json": {
       "model_id": "370da0ec8cdd4f68a0f74580e60f565e",
       "version_major": 2,
       "version_minor": 0
      },
      "text/plain": [
       "  0%|          | 0/4 [00:00<?, ?it/s]"
      ]
     },
     "metadata": {},
     "output_type": "display_data"
    },
    {
     "name": "stdout",
     "output_type": "stream",
     "text": [
      "Train loss:   0.3066711723804474\n",
      "Train  CER:   0.013317757\n",
      "Test  loss:   0.9201215505599976\n",
      "Test   CER:   0.052336447\n",
      "Best   CER:   0.045794394\n",
      "(['f', 'y', '3', 'c', 'x'], ['d', 'y', '3', 'c', 'x'])\n",
      "(['n', '6', 'f', '4', 'b'], ['n', '6', 'f', '4', 'b'])\n",
      "(['n', '6', 'f', '4', 'f', 'b'], ['n', '6', 'f', '4', 'b'])\n",
      "(['3', '3', 'n', 'g', '4'], ['3', '3', 'n', 'g', '4'])\n",
      "(['5', '7', 'g', 'n', 'x'], ['5', '7', 'g', 'n', 'x'])\n",
      "EPOCH 43/80: \n"
     ]
    },
    {
     "data": {
      "application/vnd.jupyter.widget-view+json": {
       "model_id": "13a04f4791ce4aa7bd54b2f368ec570e",
       "version_major": 2,
       "version_minor": 0
      },
      "text/plain": [
       "  0%|          | 0/14 [00:00<?, ?it/s]"
      ]
     },
     "metadata": {},
     "output_type": "display_data"
    },
    {
     "data": {
      "application/vnd.jupyter.widget-view+json": {
       "model_id": "8a3ee3d95b3d4b7cb6de32466cb43e46",
       "version_major": 2,
       "version_minor": 0
      },
      "text/plain": [
       "  0%|          | 0/4 [00:00<?, ?it/s]"
      ]
     },
     "metadata": {},
     "output_type": "display_data"
    },
    {
     "name": "stdout",
     "output_type": "stream",
     "text": [
      "Train loss:   0.374299019575119\n",
      "Train  CER:   0.017523365\n",
      "Test  loss:   1.3440645933151245\n",
      "Test   CER:   0.08971962\n",
      "Best   CER:   0.045794394\n",
      "(['n', '6', 'f', '4', 'b'], ['n', '6', 'f', '4', 'b'])\n",
      "(['n', '6', 'f', '4', 'f', 'b'], ['n', '6', 'f', '4', 'b'])\n",
      "(['3', '3', 'n', 'g', '4'], ['3', '3', 'n', 'g', '4'])\n",
      "(['5', '7', 'g', 'n', 'x'], ['5', '7', 'g', 'n', 'x'])\n",
      "(['4', '2', 'x', 'p', 'y'], ['4', '2', 'x', 'p', 'y'])\n",
      "EPOCH 44/80: \n"
     ]
    },
    {
     "data": {
      "application/vnd.jupyter.widget-view+json": {
       "model_id": "c01e91e64c60494382f980435fdd3a05",
       "version_major": 2,
       "version_minor": 0
      },
      "text/plain": [
       "  0%|          | 0/14 [00:00<?, ?it/s]"
      ]
     },
     "metadata": {},
     "output_type": "display_data"
    },
    {
     "data": {
      "application/vnd.jupyter.widget-view+json": {
       "model_id": "2686ddc82cc34b2e8fdffba4b8c9803b",
       "version_major": 2,
       "version_minor": 0
      },
      "text/plain": [
       "  0%|          | 0/4 [00:00<?, ?it/s]"
      ]
     },
     "metadata": {},
     "output_type": "display_data"
    },
    {
     "name": "stdout",
     "output_type": "stream",
     "text": [
      "Train loss:   3.248018741607666\n",
      "Train  CER:   0.18060748\n",
      "Test  loss:   7.762643337249756\n",
      "Test   CER:   0.4457944\n",
      "Best   CER:   0.045794394\n",
      "(['n', '6', 'f', '4', 'f', 'b'], ['n', '6', 'f', '4', 'b'])\n",
      "(['3', '3', 'n', 'g', '4'], ['3', '3', 'n', 'g', '4'])\n",
      "(['5', '7', 'g', 'n', 'x'], ['5', '7', 'g', 'n', 'x'])\n",
      "(['4', '2', 'x', 'p', 'y'], ['4', '2', 'x', 'p', 'y'])\n",
      "(['g', '3', 'g', 'm'], ['g', '7', 'g', 'n', 'f'])\n",
      "EPOCH 45/80: \n"
     ]
    },
    {
     "data": {
      "application/vnd.jupyter.widget-view+json": {
       "model_id": "949dcde784d84034a4bd520283199241",
       "version_major": 2,
       "version_minor": 0
      },
      "text/plain": [
       "  0%|          | 0/14 [00:00<?, ?it/s]"
      ]
     },
     "metadata": {},
     "output_type": "display_data"
    },
    {
     "data": {
      "application/vnd.jupyter.widget-view+json": {
       "model_id": "17faccba6cb6480992db6ff131852305",
       "version_major": 2,
       "version_minor": 0
      },
      "text/plain": [
       "  0%|          | 0/4 [00:00<?, ?it/s]"
      ]
     },
     "metadata": {},
     "output_type": "display_data"
    },
    {
     "name": "stdout",
     "output_type": "stream",
     "text": [
      "Train loss:   0.8295012712478638\n",
      "Train  CER:   0.048364487\n",
      "Test  loss:   0.6019768118858337\n",
      "Test   CER:   0.030841121\n",
      "Best   CER:   0.030841121\n",
      "(['3', '3', 'n', 'g', '4'], ['3', '3', 'n', 'g', '4'])\n",
      "(['5', '7', 'g', 'n', 'x'], ['5', '7', 'g', 'n', 'x'])\n",
      "(['4', '2', 'x', 'p', 'y'], ['4', '2', 'x', 'p', 'y'])\n",
      "(['g', '3', 'g', 'm'], ['g', '7', 'g', 'n', 'f'])\n",
      "(['7', 'x', 'c', 'y', 'd'], ['7', 'x', 'c', 'y', 'd'])\n",
      "EPOCH 46/80: \n"
     ]
    },
    {
     "data": {
      "application/vnd.jupyter.widget-view+json": {
       "model_id": "ca51c4a2f19447ffb2f4bb2965f90f38",
       "version_major": 2,
       "version_minor": 0
      },
      "text/plain": [
       "  0%|          | 0/14 [00:00<?, ?it/s]"
      ]
     },
     "metadata": {},
     "output_type": "display_data"
    },
    {
     "data": {
      "application/vnd.jupyter.widget-view+json": {
       "model_id": "de57532adf0643cdb5142c95e10f77dc",
       "version_major": 2,
       "version_minor": 0
      },
      "text/plain": [
       "  0%|          | 0/4 [00:00<?, ?it/s]"
      ]
     },
     "metadata": {},
     "output_type": "display_data"
    },
    {
     "name": "stdout",
     "output_type": "stream",
     "text": [
      "Train loss:   0.17271895706653595\n",
      "Train  CER:   0.0037383179\n",
      "Test  loss:   0.6100932359695435\n",
      "Test   CER:   0.036448598\n",
      "Best   CER:   0.030841121\n",
      "(['5', '7', 'g', 'n', 'x'], ['5', '7', 'g', 'n', 'x'])\n",
      "(['4', '2', 'x', 'p', 'y'], ['4', '2', 'x', 'p', 'y'])\n",
      "(['g', '3', 'g', 'm'], ['g', '7', 'g', 'n', 'f'])\n",
      "(['7', 'x', 'c', 'y', 'd'], ['7', 'x', 'c', 'y', 'd'])\n",
      "(['p', 'y', 'm', '7', 'p'], ['p', 'y', 'm', '7', 'p'])\n",
      "EPOCH 47/80: \n"
     ]
    },
    {
     "data": {
      "application/vnd.jupyter.widget-view+json": {
       "model_id": "28ee627105454c42a9ae844b166c745a",
       "version_major": 2,
       "version_minor": 0
      },
      "text/plain": [
       "  0%|          | 0/14 [00:00<?, ?it/s]"
      ]
     },
     "metadata": {},
     "output_type": "display_data"
    },
    {
     "data": {
      "application/vnd.jupyter.widget-view+json": {
       "model_id": "eaac37f28c5c4ea3ac20ea95a7f7f871",
       "version_major": 2,
       "version_minor": 0
      },
      "text/plain": [
       "  0%|          | 0/4 [00:00<?, ?it/s]"
      ]
     },
     "metadata": {},
     "output_type": "display_data"
    },
    {
     "name": "stdout",
     "output_type": "stream",
     "text": [
      "Train loss:   0.1576569825410843\n",
      "Train  CER:   0.004672897\n",
      "Test  loss:   0.6659815907478333\n",
      "Test   CER:   0.042056076\n",
      "Best   CER:   0.030841121\n",
      "(['4', '2', 'x', 'p', 'y'], ['4', '2', 'x', 'p', 'y'])\n",
      "(['g', '3', 'g', 'm'], ['g', '7', 'g', 'n', 'f'])\n",
      "(['7', 'x', 'c', 'y', 'd'], ['7', 'x', 'c', 'y', 'd'])\n",
      "(['p', 'y', 'm', '7', 'p'], ['p', 'y', 'm', '7', 'p'])\n",
      "(['d', '4', 'p', 'p', 'y'], ['d', '4', 'p', 'p', 'y'])\n",
      "EPOCH 48/80: \n"
     ]
    },
    {
     "data": {
      "application/vnd.jupyter.widget-view+json": {
       "model_id": "f42908fba33f4b2aad9291803551a2d5",
       "version_major": 2,
       "version_minor": 0
      },
      "text/plain": [
       "  0%|          | 0/14 [00:00<?, ?it/s]"
      ]
     },
     "metadata": {},
     "output_type": "display_data"
    },
    {
     "data": {
      "application/vnd.jupyter.widget-view+json": {
       "model_id": "7785ab784b414ad38216c7f685a6051f",
       "version_major": 2,
       "version_minor": 0
      },
      "text/plain": [
       "  0%|          | 0/4 [00:00<?, ?it/s]"
      ]
     },
     "metadata": {},
     "output_type": "display_data"
    },
    {
     "name": "stdout",
     "output_type": "stream",
     "text": [
      "Train loss:   0.09101248532533646\n",
      "Train  CER:   0.0014018691\n",
      "Test  loss:   0.4134933352470398\n",
      "Test   CER:   0.019626169\n",
      "Best   CER:   0.019626169\n",
      "(['g', '3', 'g', 'm'], ['g', '7', 'g', 'n', 'f'])\n",
      "(['7', 'x', 'c', 'y', 'd'], ['7', 'x', 'c', 'y', 'd'])\n",
      "(['p', 'y', 'm', '7', 'p'], ['p', 'y', 'm', '7', 'p'])\n",
      "(['d', '4', 'p', 'p', 'y'], ['d', '4', 'p', 'p', 'y'])\n",
      "(['4', '2', 'x', 'p', 'y'], ['4', '2', 'x', 'p', 'y'])\n",
      "EPOCH 49/80: \n"
     ]
    },
    {
     "data": {
      "application/vnd.jupyter.widget-view+json": {
       "model_id": "5c5c3dc9023c4fd9ac8cfc3f16945b05",
       "version_major": 2,
       "version_minor": 0
      },
      "text/plain": [
       "  0%|          | 0/14 [00:00<?, ?it/s]"
      ]
     },
     "metadata": {},
     "output_type": "display_data"
    },
    {
     "data": {
      "application/vnd.jupyter.widget-view+json": {
       "model_id": "fa22caebb3594bb38c052c67c9e29872",
       "version_major": 2,
       "version_minor": 0
      },
      "text/plain": [
       "  0%|          | 0/4 [00:00<?, ?it/s]"
      ]
     },
     "metadata": {},
     "output_type": "display_data"
    },
    {
     "name": "stdout",
     "output_type": "stream",
     "text": [
      "Train loss:   0.059323862195014954\n",
      "Train  CER:   0.00070093456\n",
      "Test  loss:   0.37125834822654724\n",
      "Test   CER:   0.024299065\n",
      "Best   CER:   0.019626169\n",
      "(['7', 'x', 'c', 'y', 'd'], ['7', 'x', 'c', 'y', 'd'])\n",
      "(['p', 'y', 'm', '7', 'p'], ['p', 'y', 'm', '7', 'p'])\n",
      "(['d', '4', 'p', 'p', 'y'], ['d', '4', 'p', 'p', 'y'])\n",
      "(['4', '2', 'x', 'p', 'y'], ['4', '2', 'x', 'p', 'y'])\n",
      "(['d', '2', '2', '3', 'n', '7'], ['d', '2', '2', 'n', '7'])\n",
      "EPOCH 50/80: \n"
     ]
    },
    {
     "data": {
      "application/vnd.jupyter.widget-view+json": {
       "model_id": "614a71504e674be286b3bd991d9fc82b",
       "version_major": 2,
       "version_minor": 0
      },
      "text/plain": [
       "  0%|          | 0/14 [00:00<?, ?it/s]"
      ]
     },
     "metadata": {},
     "output_type": "display_data"
    },
    {
     "data": {
      "application/vnd.jupyter.widget-view+json": {
       "model_id": "069c0cdaeabf4225a9acce8a01896262",
       "version_major": 2,
       "version_minor": 0
      },
      "text/plain": [
       "  0%|          | 0/4 [00:00<?, ?it/s]"
      ]
     },
     "metadata": {},
     "output_type": "display_data"
    },
    {
     "name": "stdout",
     "output_type": "stream",
     "text": [
      "Train loss:   0.9358386397361755\n",
      "Train  CER:   0.05327103\n",
      "Test  loss:   15.29434871673584\n",
      "Test   CER:   0.6224299\n",
      "Best   CER:   0.019626169\n",
      "(['p', 'y', 'm', '7', 'p'], ['p', 'y', 'm', '7', 'p'])\n",
      "(['d', '4', 'p', 'p', 'y'], ['d', '4', 'p', 'p', 'y'])\n",
      "(['4', '2', 'x', 'p', 'y'], ['4', '2', 'x', 'p', 'y'])\n",
      "(['d', '2', '2', '3', 'n', '7'], ['d', '2', '2', 'n', '7'])\n",
      "(['5', 'y', 'y', '4', '5'], ['8', 'n', 'p', 'd', '5'])\n",
      "EPOCH 51/80: \n"
     ]
    },
    {
     "data": {
      "application/vnd.jupyter.widget-view+json": {
       "model_id": "db20ed6961694f5491d0067c69cb788e",
       "version_major": 2,
       "version_minor": 0
      },
      "text/plain": [
       "  0%|          | 0/14 [00:00<?, ?it/s]"
      ]
     },
     "metadata": {},
     "output_type": "display_data"
    },
    {
     "data": {
      "application/vnd.jupyter.widget-view+json": {
       "model_id": "fd8560165f6948ddbdffd8f79d78be4a",
       "version_major": 2,
       "version_minor": 0
      },
      "text/plain": [
       "  0%|          | 0/4 [00:00<?, ?it/s]"
      ]
     },
     "metadata": {},
     "output_type": "display_data"
    },
    {
     "name": "stdout",
     "output_type": "stream",
     "text": [
      "Train loss:   0.275907963514328\n",
      "Train  CER:   0.016121496\n",
      "Test  loss:   0.437074214220047\n",
      "Test   CER:   0.025233645\n",
      "Best   CER:   0.019626169\n",
      "(['d', '4', 'p', 'p', 'y'], ['d', '4', 'p', 'p', 'y'])\n",
      "(['4', '2', 'x', 'p', 'y'], ['4', '2', 'x', 'p', 'y'])\n",
      "(['d', '2', '2', '3', 'n', '7'], ['d', '2', '2', 'n', '7'])\n",
      "(['5', 'y', 'y', '4', '5'], ['8', 'n', 'p', 'd', '5'])\n",
      "(['6', 'f', '2', 'y', 'c'], ['6', 'f', '2', 'y', 'c'])\n",
      "EPOCH 52/80: \n"
     ]
    },
    {
     "data": {
      "application/vnd.jupyter.widget-view+json": {
       "model_id": "8b703a88ee78440ba96209d2e80e4a26",
       "version_major": 2,
       "version_minor": 0
      },
      "text/plain": [
       "  0%|          | 0/14 [00:00<?, ?it/s]"
      ]
     },
     "metadata": {},
     "output_type": "display_data"
    },
    {
     "data": {
      "application/vnd.jupyter.widget-view+json": {
       "model_id": "ce269f3802b74866aba57742a9c18b66",
       "version_major": 2,
       "version_minor": 0
      },
      "text/plain": [
       "  0%|          | 0/4 [00:00<?, ?it/s]"
      ]
     },
     "metadata": {},
     "output_type": "display_data"
    },
    {
     "name": "stdout",
     "output_type": "stream",
     "text": [
      "Train loss:   0.04305250570178032\n",
      "Train  CER:   0.00046728973\n",
      "Test  loss:   0.40278562903404236\n",
      "Test   CER:   0.024299065\n",
      "Best   CER:   0.019626169\n",
      "(['4', '2', 'x', 'p', 'y'], ['4', '2', 'x', 'p', 'y'])\n",
      "(['d', '2', '2', '3', 'n', '7'], ['d', '2', '2', 'n', '7'])\n",
      "(['5', 'y', 'y', '4', '5'], ['8', 'n', 'p', 'd', '5'])\n",
      "(['6', 'f', '2', 'y', 'c'], ['6', 'f', '2', 'y', 'c'])\n",
      "(['6', '2', 'n', 'b', '3'], ['6', '2', 'n', 'b', '3'])\n",
      "EPOCH 53/80: \n"
     ]
    },
    {
     "data": {
      "application/vnd.jupyter.widget-view+json": {
       "model_id": "45ad6d4277b349a69fed5255d1dcf78a",
       "version_major": 2,
       "version_minor": 0
      },
      "text/plain": [
       "  0%|          | 0/14 [00:00<?, ?it/s]"
      ]
     },
     "metadata": {},
     "output_type": "display_data"
    },
    {
     "data": {
      "application/vnd.jupyter.widget-view+json": {
       "model_id": "2cfa4560aa114f60be5c2d25e060db23",
       "version_major": 2,
       "version_minor": 0
      },
      "text/plain": [
       "  0%|          | 0/4 [00:00<?, ?it/s]"
      ]
     },
     "metadata": {},
     "output_type": "display_data"
    },
    {
     "name": "stdout",
     "output_type": "stream",
     "text": [
      "Train loss:   0.031794216483831406\n",
      "Train  CER:   0.0\n",
      "Test  loss:   0.390487939119339\n",
      "Test   CER:   0.021495327\n",
      "Best   CER:   0.019626169\n",
      "(['d', '2', '2', '3', 'n', '7'], ['d', '2', '2', 'n', '7'])\n",
      "(['5', 'y', 'y', '4', '5'], ['8', 'n', 'p', 'd', '5'])\n",
      "(['6', 'f', '2', 'y', 'c'], ['6', 'f', '2', 'y', 'c'])\n",
      "(['6', '2', 'n', 'b', '3'], ['6', '2', 'n', 'b', '3'])\n",
      "(['b', '5', 'n', 'm', 'm'], ['b', '5', 'n', 'm', 'm'])\n",
      "EPOCH 54/80: \n"
     ]
    },
    {
     "data": {
      "application/vnd.jupyter.widget-view+json": {
       "model_id": "7f6302b9ca55493e80b49ec0debefbaa",
       "version_major": 2,
       "version_minor": 0
      },
      "text/plain": [
       "  0%|          | 0/14 [00:00<?, ?it/s]"
      ]
     },
     "metadata": {},
     "output_type": "display_data"
    },
    {
     "data": {
      "application/vnd.jupyter.widget-view+json": {
       "model_id": "f74f237befff407c9f82bd644ae302be",
       "version_major": 2,
       "version_minor": 0
      },
      "text/plain": [
       "  0%|          | 0/4 [00:00<?, ?it/s]"
      ]
     },
     "metadata": {},
     "output_type": "display_data"
    },
    {
     "name": "stdout",
     "output_type": "stream",
     "text": [
      "Train loss:   0.023387523368000984\n",
      "Train  CER:   0.00023364487\n",
      "Test  loss:   0.3939587473869324\n",
      "Test   CER:   0.020560747\n",
      "Best   CER:   0.019626169\n",
      "(['5', 'y', 'y', '4', '5'], ['8', 'n', 'p', 'd', '5'])\n",
      "(['6', 'f', '2', 'y', 'c'], ['6', 'f', '2', 'y', 'c'])\n",
      "(['6', '2', 'n', 'b', '3'], ['6', '2', 'n', 'b', '3'])\n",
      "(['b', '5', 'n', 'm', 'm'], ['b', '5', 'n', 'm', 'm'])\n",
      "(['c', '4', '3', 'b', '4'], ['c', '4', '3', 'b', '4'])\n",
      "EPOCH 55/80: \n"
     ]
    },
    {
     "data": {
      "application/vnd.jupyter.widget-view+json": {
       "model_id": "46f6f0e966564cc5a9ce6825fce4ea95",
       "version_major": 2,
       "version_minor": 0
      },
      "text/plain": [
       "  0%|          | 0/14 [00:00<?, ?it/s]"
      ]
     },
     "metadata": {},
     "output_type": "display_data"
    },
    {
     "data": {
      "application/vnd.jupyter.widget-view+json": {
       "model_id": "a44eba41cd6d4f8b80f734d34bc540f2",
       "version_major": 2,
       "version_minor": 0
      },
      "text/plain": [
       "  0%|          | 0/4 [00:00<?, ?it/s]"
      ]
     },
     "metadata": {},
     "output_type": "display_data"
    },
    {
     "name": "stdout",
     "output_type": "stream",
     "text": [
      "Train loss:   0.01643172837793827\n",
      "Train  CER:   0.0\n",
      "Test  loss:   0.388324111700058\n",
      "Test   CER:   0.018691588\n",
      "Best   CER:   0.018691588\n",
      "(['6', 'f', '2', 'y', 'c'], ['6', 'f', '2', 'y', 'c'])\n",
      "(['6', '2', 'n', 'b', '3'], ['6', '2', 'n', 'b', '3'])\n",
      "(['b', '5', 'n', 'm', 'm'], ['b', '5', 'n', 'm', 'm'])\n",
      "(['c', '4', '3', 'b', '4'], ['c', '4', '3', 'b', '4'])\n",
      "(['b', 'd', 'g', '8', '4'], ['b', 'd', 'g', '8', '4'])\n",
      "EPOCH 56/80: \n"
     ]
    },
    {
     "data": {
      "application/vnd.jupyter.widget-view+json": {
       "model_id": "ffdfe87f8c8e4f6f9a2c5e9f1bc9979f",
       "version_major": 2,
       "version_minor": 0
      },
      "text/plain": [
       "  0%|          | 0/14 [00:00<?, ?it/s]"
      ]
     },
     "metadata": {},
     "output_type": "display_data"
    },
    {
     "data": {
      "application/vnd.jupyter.widget-view+json": {
       "model_id": "7f63e08e2a864d0dbecb2f8589c2725b",
       "version_major": 2,
       "version_minor": 0
      },
      "text/plain": [
       "  0%|          | 0/4 [00:00<?, ?it/s]"
      ]
     },
     "metadata": {},
     "output_type": "display_data"
    },
    {
     "name": "stdout",
     "output_type": "stream",
     "text": [
      "Train loss:   0.07850883901119232\n",
      "Train  CER:   0.0039719627\n",
      "Test  loss:   1.0864440202713013\n",
      "Test   CER:   0.072897196\n",
      "Best   CER:   0.018691588\n",
      "(['6', '2', 'n', 'b', '3'], ['6', '2', 'n', 'b', '3'])\n",
      "(['b', '5', 'n', 'm', 'm'], ['b', '5', 'n', 'm', 'm'])\n",
      "(['c', '4', '3', 'b', '4'], ['c', '4', '3', 'b', '4'])\n",
      "(['b', 'd', 'g', '8', '4'], ['b', 'd', 'g', '8', '4'])\n",
      "(['e', 'b', 'c', 'b'], ['e', 'b', 'c', 'b', 'x'])\n",
      "EPOCH 57/80: \n"
     ]
    },
    {
     "data": {
      "application/vnd.jupyter.widget-view+json": {
       "model_id": "8ca61cd392aa45c997680b49a1d3f3e7",
       "version_major": 2,
       "version_minor": 0
      },
      "text/plain": [
       "  0%|          | 0/14 [00:00<?, ?it/s]"
      ]
     },
     "metadata": {},
     "output_type": "display_data"
    },
    {
     "data": {
      "application/vnd.jupyter.widget-view+json": {
       "model_id": "8ecbd54c1db7425ea95c57602fcf407a",
       "version_major": 2,
       "version_minor": 0
      },
      "text/plain": [
       "  0%|          | 0/4 [00:00<?, ?it/s]"
      ]
     },
     "metadata": {},
     "output_type": "display_data"
    },
    {
     "name": "stdout",
     "output_type": "stream",
     "text": [
      "Train loss:   1.80245840549469\n",
      "Train  CER:   0.08714953\n",
      "Test  loss:   0.5139984488487244\n",
      "Test   CER:   0.026168223\n",
      "Best   CER:   0.018691588\n",
      "(['b', '5', 'n', 'm', 'm'], ['b', '5', 'n', 'm', 'm'])\n",
      "(['c', '4', '3', 'b', '4'], ['c', '4', '3', 'b', '4'])\n",
      "(['b', 'd', 'g', '8', '4'], ['b', 'd', 'g', '8', '4'])\n",
      "(['e', 'b', 'c', 'b'], ['e', 'b', 'c', 'b', 'x'])\n",
      "(['g', '2', '8', 'g', 'n'], ['g', '7', '8', 'g', 'n'])\n",
      "EPOCH 58/80: \n"
     ]
    },
    {
     "data": {
      "application/vnd.jupyter.widget-view+json": {
       "model_id": "86d08f2541014ad598b4c557fcf0d9bc",
       "version_major": 2,
       "version_minor": 0
      },
      "text/plain": [
       "  0%|          | 0/14 [00:00<?, ?it/s]"
      ]
     },
     "metadata": {},
     "output_type": "display_data"
    },
    {
     "data": {
      "application/vnd.jupyter.widget-view+json": {
       "model_id": "86354c77beae4a889cabc74a0c2470ed",
       "version_major": 2,
       "version_minor": 0
      },
      "text/plain": [
       "  0%|          | 0/4 [00:00<?, ?it/s]"
      ]
     },
     "metadata": {},
     "output_type": "display_data"
    },
    {
     "name": "stdout",
     "output_type": "stream",
     "text": [
      "Train loss:   0.04222824424505234\n",
      "Train  CER:   0.00023364487\n",
      "Test  loss:   0.4002912938594818\n",
      "Test   CER:   0.021495327\n",
      "Best   CER:   0.018691588\n",
      "(['c', '4', '3', 'b', '4'], ['c', '4', '3', 'b', '4'])\n",
      "(['b', 'd', 'g', '8', '4'], ['b', 'd', 'g', '8', '4'])\n",
      "(['e', 'b', 'c', 'b'], ['e', 'b', 'c', 'b', 'x'])\n",
      "(['g', '2', '8', 'g', 'n'], ['g', '7', '8', 'g', 'n'])\n",
      "(['6', 'e', '5', '5', '4'], ['6', 'e', '5', '5', '4'])\n",
      "EPOCH 59/80: \n"
     ]
    },
    {
     "data": {
      "application/vnd.jupyter.widget-view+json": {
       "model_id": "61014da5bc764bd5ad9d4ad37d0e3aa3",
       "version_major": 2,
       "version_minor": 0
      },
      "text/plain": [
       "  0%|          | 0/14 [00:00<?, ?it/s]"
      ]
     },
     "metadata": {},
     "output_type": "display_data"
    },
    {
     "data": {
      "application/vnd.jupyter.widget-view+json": {
       "model_id": "9ae4104d567b494cab5a06eac8b2b335",
       "version_major": 2,
       "version_minor": 0
      },
      "text/plain": [
       "  0%|          | 0/4 [00:00<?, ?it/s]"
      ]
     },
     "metadata": {},
     "output_type": "display_data"
    },
    {
     "name": "stdout",
     "output_type": "stream",
     "text": [
      "Train loss:   0.025124279782176018\n",
      "Train  CER:   0.00046728973\n",
      "Test  loss:   0.41074034571647644\n",
      "Test   CER:   0.020560747\n",
      "Best   CER:   0.018691588\n",
      "(['b', 'd', 'g', '8', '4'], ['b', 'd', 'g', '8', '4'])\n",
      "(['e', 'b', 'c', 'b'], ['e', 'b', 'c', 'b', 'x'])\n",
      "(['g', '2', '8', 'g', 'n'], ['g', '7', '8', 'g', 'n'])\n",
      "(['6', 'e', '5', '5', '4'], ['6', 'e', '5', '5', '4'])\n",
      "(['6', 'e', '5', '5', '4'], ['6', 'e', '5', '5', '4'])\n",
      "EPOCH 60/80: \n"
     ]
    },
    {
     "data": {
      "application/vnd.jupyter.widget-view+json": {
       "model_id": "0fc3b752de8d45139676a64ceab42a39",
       "version_major": 2,
       "version_minor": 0
      },
      "text/plain": [
       "  0%|          | 0/14 [00:00<?, ?it/s]"
      ]
     },
     "metadata": {},
     "output_type": "display_data"
    },
    {
     "data": {
      "application/vnd.jupyter.widget-view+json": {
       "model_id": "4ff292e77d98436a8af509bd50bbb19a",
       "version_major": 2,
       "version_minor": 0
      },
      "text/plain": [
       "  0%|          | 0/4 [00:00<?, ?it/s]"
      ]
     },
     "metadata": {},
     "output_type": "display_data"
    },
    {
     "name": "stdout",
     "output_type": "stream",
     "text": [
      "Train loss:   0.015962928533554077\n",
      "Train  CER:   0.0\n",
      "Test  loss:   0.3563445508480072\n",
      "Test   CER:   0.01775701\n",
      "Best   CER:   0.01775701\n",
      "(['e', 'b', 'c', 'b'], ['e', 'b', 'c', 'b', 'x'])\n",
      "(['g', '2', '8', 'g', 'n'], ['g', '7', '8', 'g', 'n'])\n",
      "(['6', 'e', '5', '5', '4'], ['6', 'e', '5', '5', '4'])\n",
      "(['6', 'e', '5', '5', '4'], ['6', 'e', '5', '5', '4'])\n",
      "(['8', 'n', '5', 'p', '3'], ['8', 'n', '5', 'p', '3'])\n",
      "EPOCH 61/80: \n"
     ]
    },
    {
     "data": {
      "application/vnd.jupyter.widget-view+json": {
       "model_id": "66a3290f176f40caa262c2b3986fbb80",
       "version_major": 2,
       "version_minor": 0
      },
      "text/plain": [
       "  0%|          | 0/14 [00:00<?, ?it/s]"
      ]
     },
     "metadata": {},
     "output_type": "display_data"
    },
    {
     "data": {
      "application/vnd.jupyter.widget-view+json": {
       "model_id": "a26366aa16ab43cc8647fde6e959b309",
       "version_major": 2,
       "version_minor": 0
      },
      "text/plain": [
       "  0%|          | 0/4 [00:00<?, ?it/s]"
      ]
     },
     "metadata": {},
     "output_type": "display_data"
    },
    {
     "name": "stdout",
     "output_type": "stream",
     "text": [
      "Train loss:   0.011919142678380013\n",
      "Train  CER:   0.0\n",
      "Test  loss:   0.35053980350494385\n",
      "Test   CER:   0.01682243\n",
      "Best   CER:   0.01682243\n",
      "(['g', '2', '8', 'g', 'n'], ['g', '7', '8', 'g', 'n'])\n",
      "(['6', 'e', '5', '5', '4'], ['6', 'e', '5', '5', '4'])\n",
      "(['6', 'e', '5', '5', '4'], ['6', 'e', '5', '5', '4'])\n",
      "(['8', 'n', '5', 'p', '3'], ['8', 'n', '5', 'p', '3'])\n",
      "(['x', '6', 'p', 'd', 'b'], ['x', '6', 'p', 'd', 'b'])\n",
      "EPOCH 62/80: \n"
     ]
    },
    {
     "data": {
      "application/vnd.jupyter.widget-view+json": {
       "model_id": "55697fc71ad644359d718b3377694aab",
       "version_major": 2,
       "version_minor": 0
      },
      "text/plain": [
       "  0%|          | 0/14 [00:00<?, ?it/s]"
      ]
     },
     "metadata": {},
     "output_type": "display_data"
    },
    {
     "data": {
      "application/vnd.jupyter.widget-view+json": {
       "model_id": "6fffd5bf5e64492c8a2f671777a9da6f",
       "version_major": 2,
       "version_minor": 0
      },
      "text/plain": [
       "  0%|          | 0/4 [00:00<?, ?it/s]"
      ]
     },
     "metadata": {},
     "output_type": "display_data"
    },
    {
     "name": "stdout",
     "output_type": "stream",
     "text": [
      "Train loss:   0.008430699817836285\n",
      "Train  CER:   0.0\n",
      "Test  loss:   0.3328171372413635\n",
      "Test   CER:   0.01775701\n",
      "Best   CER:   0.01682243\n",
      "(['6', 'e', '5', '5', '4'], ['6', 'e', '5', '5', '4'])\n",
      "(['6', 'e', '5', '5', '4'], ['6', 'e', '5', '5', '4'])\n",
      "(['8', 'n', '5', 'p', '3'], ['8', 'n', '5', 'p', '3'])\n",
      "(['x', '6', 'p', 'd', 'b'], ['x', '6', 'p', 'd', 'b'])\n",
      "(['p', 'w', 'n', 'b', 'n'], ['p', 'w', 'm', 'b', 'n'])\n",
      "EPOCH 63/80: \n"
     ]
    },
    {
     "data": {
      "application/vnd.jupyter.widget-view+json": {
       "model_id": "7954eed091de42f98482fa9d5e28afa0",
       "version_major": 2,
       "version_minor": 0
      },
      "text/plain": [
       "  0%|          | 0/14 [00:00<?, ?it/s]"
      ]
     },
     "metadata": {},
     "output_type": "display_data"
    },
    {
     "data": {
      "application/vnd.jupyter.widget-view+json": {
       "model_id": "50e2477d23a14543b88b0f10c1cc255e",
       "version_major": 2,
       "version_minor": 0
      },
      "text/plain": [
       "  0%|          | 0/4 [00:00<?, ?it/s]"
      ]
     },
     "metadata": {},
     "output_type": "display_data"
    },
    {
     "name": "stdout",
     "output_type": "stream",
     "text": [
      "Train loss:   0.006052911747246981\n",
      "Train  CER:   0.0\n",
      "Test  loss:   0.326217383146286\n",
      "Test   CER:   0.01775701\n",
      "Best   CER:   0.01682243\n",
      "(['6', 'e', '5', '5', '4'], ['6', 'e', '5', '5', '4'])\n",
      "(['8', 'n', '5', 'p', '3'], ['8', 'n', '5', 'p', '3'])\n",
      "(['x', '6', 'p', 'd', 'b'], ['x', '6', 'p', 'd', 'b'])\n",
      "(['p', 'w', 'n', 'b', 'n'], ['p', 'w', 'm', 'b', 'n'])\n",
      "(['n', '4', 'b', '4', 'm'], ['n', '4', 'b', '4', 'm'])\n",
      "EPOCH 64/80: \n"
     ]
    },
    {
     "data": {
      "application/vnd.jupyter.widget-view+json": {
       "model_id": "e61932c223d943829011e3a1865150c7",
       "version_major": 2,
       "version_minor": 0
      },
      "text/plain": [
       "  0%|          | 0/14 [00:00<?, ?it/s]"
      ]
     },
     "metadata": {},
     "output_type": "display_data"
    },
    {
     "data": {
      "application/vnd.jupyter.widget-view+json": {
       "model_id": "7a15b7f7ed9e44dab6be7fa6705c3cd8",
       "version_major": 2,
       "version_minor": 0
      },
      "text/plain": [
       "  0%|          | 0/4 [00:00<?, ?it/s]"
      ]
     },
     "metadata": {},
     "output_type": "display_data"
    },
    {
     "name": "stdout",
     "output_type": "stream",
     "text": [
      "Train loss:   0.0037045024801045656\n",
      "Train  CER:   0.0\n",
      "Test  loss:   0.3614147901535034\n",
      "Test   CER:   0.01682243\n",
      "Best   CER:   0.01682243\n",
      "(['8', 'n', '5', 'p', '3'], ['8', 'n', '5', 'p', '3'])\n",
      "(['x', '6', 'p', 'd', 'b'], ['x', '6', 'p', 'd', 'b'])\n",
      "(['p', 'w', 'n', 'b', 'n'], ['p', 'w', 'm', 'b', 'n'])\n",
      "(['n', '4', 'b', '4', 'm'], ['n', '4', 'b', '4', 'm'])\n",
      "(['3', 'x', 'c', 'g', 'g'], ['3', 'x', 'c', 'g', 'g'])\n",
      "EPOCH 65/80: \n"
     ]
    },
    {
     "data": {
      "application/vnd.jupyter.widget-view+json": {
       "model_id": "a609f1ae0ce94bc4a8300c7ec4388056",
       "version_major": 2,
       "version_minor": 0
      },
      "text/plain": [
       "  0%|          | 0/14 [00:00<?, ?it/s]"
      ]
     },
     "metadata": {},
     "output_type": "display_data"
    },
    {
     "data": {
      "application/vnd.jupyter.widget-view+json": {
       "model_id": "0fe9f44e9fb24858a5c359ca8c8dd55a",
       "version_major": 2,
       "version_minor": 0
      },
      "text/plain": [
       "  0%|          | 0/4 [00:00<?, ?it/s]"
      ]
     },
     "metadata": {},
     "output_type": "display_data"
    },
    {
     "name": "stdout",
     "output_type": "stream",
     "text": [
      "Train loss:   0.002677527954801917\n",
      "Train  CER:   0.0\n",
      "Test  loss:   0.28563958406448364\n",
      "Test   CER:   0.01775701\n",
      "Best   CER:   0.01682243\n",
      "(['x', '6', 'p', 'd', 'b'], ['x', '6', 'p', 'd', 'b'])\n",
      "(['p', 'w', 'n', 'b', 'n'], ['p', 'w', 'm', 'b', 'n'])\n",
      "(['n', '4', 'b', '4', 'm'], ['n', '4', 'b', '4', 'm'])\n",
      "(['3', 'x', 'c', 'g', 'g'], ['3', 'x', 'c', 'g', 'g'])\n",
      "(['x', 'y', 'm', 'f', 'n'], ['x', 'y', 'm', 'f', 'n'])\n",
      "EPOCH 66/80: \n"
     ]
    },
    {
     "data": {
      "application/vnd.jupyter.widget-view+json": {
       "model_id": "05aef872c8b946b1a7e68a9fe084cbfd",
       "version_major": 2,
       "version_minor": 0
      },
      "text/plain": [
       "  0%|          | 0/14 [00:00<?, ?it/s]"
      ]
     },
     "metadata": {},
     "output_type": "display_data"
    },
    {
     "data": {
      "application/vnd.jupyter.widget-view+json": {
       "model_id": "f53516ea71284d9cb464b25f3dfc6d9e",
       "version_major": 2,
       "version_minor": 0
      },
      "text/plain": [
       "  0%|          | 0/4 [00:00<?, ?it/s]"
      ]
     },
     "metadata": {},
     "output_type": "display_data"
    },
    {
     "name": "stdout",
     "output_type": "stream",
     "text": [
      "Train loss:   0.4741140902042389\n",
      "Train  CER:   0.02406542\n",
      "Test  loss:   16.61918830871582\n",
      "Test   CER:   0.7953271\n",
      "Best   CER:   0.01682243\n",
      "(['p', 'w', 'n', 'b', 'n'], ['p', 'w', 'm', 'b', 'n'])\n",
      "(['n', '4', 'b', '4', 'm'], ['n', '4', 'b', '4', 'm'])\n",
      "(['3', 'x', 'c', 'g', 'g'], ['3', 'x', 'c', 'g', 'g'])\n",
      "(['x', 'y', 'm', 'f', 'n'], ['x', 'y', 'm', 'f', 'n'])\n",
      "(['3', 'd', '6', 'd', 'n', '6', 'd', 'd', 'f'], ['3', 'd', 'e', 'n', '6'])\n",
      "EPOCH 67/80: \n"
     ]
    },
    {
     "data": {
      "application/vnd.jupyter.widget-view+json": {
       "model_id": "091ab65a51c24dd09ec3f530f7eaeabe",
       "version_major": 2,
       "version_minor": 0
      },
      "text/plain": [
       "  0%|          | 0/14 [00:00<?, ?it/s]"
      ]
     },
     "metadata": {},
     "output_type": "display_data"
    },
    {
     "data": {
      "application/vnd.jupyter.widget-view+json": {
       "model_id": "5d379fd1a4d4480eac2496fb44b363cb",
       "version_major": 2,
       "version_minor": 0
      },
      "text/plain": [
       "  0%|          | 0/4 [00:00<?, ?it/s]"
      ]
     },
     "metadata": {},
     "output_type": "display_data"
    },
    {
     "name": "stdout",
     "output_type": "stream",
     "text": [
      "Train loss:   3.6800296306610107\n",
      "Train  CER:   0.16635513\n",
      "Test  loss:   0.6954985857009888\n",
      "Test   CER:   0.039252337\n",
      "Best   CER:   0.01682243\n",
      "(['n', '4', 'b', '4', 'm'], ['n', '4', 'b', '4', 'm'])\n",
      "(['3', 'x', 'c', 'g', 'g'], ['3', 'x', 'c', 'g', 'g'])\n",
      "(['x', 'y', 'm', 'f', 'n'], ['x', 'y', 'm', 'f', 'n'])\n",
      "(['3', 'd', '6', 'd', 'n', '6', 'd', 'd', 'f'], ['3', 'd', 'e', 'n', '6'])\n",
      "(['g', 'p', 'n', 'x', 'n'], ['g', 'p', 'n', 'x', 'n'])\n",
      "EPOCH 68/80: \n"
     ]
    },
    {
     "data": {
      "application/vnd.jupyter.widget-view+json": {
       "model_id": "57c0bbf1c1ee4e52966f5238ebfafded",
       "version_major": 2,
       "version_minor": 0
      },
      "text/plain": [
       "  0%|          | 0/14 [00:00<?, ?it/s]"
      ]
     },
     "metadata": {},
     "output_type": "display_data"
    },
    {
     "data": {
      "application/vnd.jupyter.widget-view+json": {
       "model_id": "eabf36e17f814303a68ab8339681446d",
       "version_major": 2,
       "version_minor": 0
      },
      "text/plain": [
       "  0%|          | 0/4 [00:00<?, ?it/s]"
      ]
     },
     "metadata": {},
     "output_type": "display_data"
    },
    {
     "name": "stdout",
     "output_type": "stream",
     "text": [
      "Train loss:   0.05575213581323624\n",
      "Train  CER:   0.0014018691\n",
      "Test  loss:   0.4226469099521637\n",
      "Test   CER:   0.028037382\n",
      "Best   CER:   0.01682243\n",
      "(['3', 'x', 'c', 'g', 'g'], ['3', 'x', 'c', 'g', 'g'])\n",
      "(['x', 'y', 'm', 'f', 'n'], ['x', 'y', 'm', 'f', 'n'])\n",
      "(['3', 'd', '6', 'd', 'n', '6', 'd', 'd', 'f'], ['3', 'd', 'e', 'n', '6'])\n",
      "(['g', 'p', 'n', 'x', 'n'], ['g', 'p', 'n', 'x', 'n'])\n",
      "(['g', 'w', '4', '6', '8'], ['g', 'w', '4', '6', '8'])\n",
      "EPOCH 69/80: \n"
     ]
    },
    {
     "data": {
      "application/vnd.jupyter.widget-view+json": {
       "model_id": "2470d3f267b44298bd159c02e43ae465",
       "version_major": 2,
       "version_minor": 0
      },
      "text/plain": [
       "  0%|          | 0/14 [00:00<?, ?it/s]"
      ]
     },
     "metadata": {},
     "output_type": "display_data"
    },
    {
     "data": {
      "application/vnd.jupyter.widget-view+json": {
       "model_id": "3e3709a432734748bc58dc73577c5148",
       "version_major": 2,
       "version_minor": 0
      },
      "text/plain": [
       "  0%|          | 0/4 [00:00<?, ?it/s]"
      ]
     },
     "metadata": {},
     "output_type": "display_data"
    },
    {
     "name": "stdout",
     "output_type": "stream",
     "text": [
      "Train loss:   0.02433583326637745\n",
      "Train  CER:   0.0\n",
      "Test  loss:   0.3670777976512909\n",
      "Test   CER:   0.023364486\n",
      "Best   CER:   0.01682243\n",
      "(['x', 'y', 'm', 'f', 'n'], ['x', 'y', 'm', 'f', 'n'])\n",
      "(['3', 'd', '6', 'd', 'n', '6', 'd', 'd', 'f'], ['3', 'd', 'e', 'n', '6'])\n",
      "(['g', 'p', 'n', 'x', 'n'], ['g', 'p', 'n', 'x', 'n'])\n",
      "(['g', 'w', '4', '6', '8'], ['g', 'w', '4', '6', '8'])\n",
      "(['6', 'm', 'e', 'g', 'e'], ['6', 'm', 'e', 'g', 'e'])\n",
      "EPOCH 70/80: \n"
     ]
    },
    {
     "data": {
      "application/vnd.jupyter.widget-view+json": {
       "model_id": "fca03c6ca8074276b1db2413288eed51",
       "version_major": 2,
       "version_minor": 0
      },
      "text/plain": [
       "  0%|          | 0/14 [00:00<?, ?it/s]"
      ]
     },
     "metadata": {},
     "output_type": "display_data"
    },
    {
     "data": {
      "application/vnd.jupyter.widget-view+json": {
       "model_id": "e70a6a9a7e604826b55522edd294eb2b",
       "version_major": 2,
       "version_minor": 0
      },
      "text/plain": [
       "  0%|          | 0/4 [00:00<?, ?it/s]"
      ]
     },
     "metadata": {},
     "output_type": "display_data"
    },
    {
     "name": "stdout",
     "output_type": "stream",
     "text": [
      "Train loss:   0.01694193296134472\n",
      "Train  CER:   0.0\n",
      "Test  loss:   0.31994619965553284\n",
      "Test   CER:   0.01682243\n",
      "Best   CER:   0.01682243\n",
      "(['3', 'd', '6', 'd', 'n', '6', 'd', 'd', 'f'], ['3', 'd', 'e', 'n', '6'])\n",
      "(['g', 'p', 'n', 'x', 'n'], ['g', 'p', 'n', 'x', 'n'])\n",
      "(['g', 'w', '4', '6', '8'], ['g', 'w', '4', '6', '8'])\n",
      "(['6', 'm', 'e', 'g', 'e'], ['6', 'm', 'e', 'g', 'e'])\n",
      "(['d', '2', '2', 'n', '7'], ['d', '2', '2', 'n', '7'])\n",
      "EPOCH 71/80: \n"
     ]
    },
    {
     "data": {
      "application/vnd.jupyter.widget-view+json": {
       "model_id": "29eddd4e9308454e9d8df67dc1495038",
       "version_major": 2,
       "version_minor": 0
      },
      "text/plain": [
       "  0%|          | 0/14 [00:00<?, ?it/s]"
      ]
     },
     "metadata": {},
     "output_type": "display_data"
    },
    {
     "data": {
      "application/vnd.jupyter.widget-view+json": {
       "model_id": "5d9d46ef25374f93af385b3c68ffbb9a",
       "version_major": 2,
       "version_minor": 0
      },
      "text/plain": [
       "  0%|          | 0/4 [00:00<?, ?it/s]"
      ]
     },
     "metadata": {},
     "output_type": "display_data"
    },
    {
     "name": "stdout",
     "output_type": "stream",
     "text": [
      "Train loss:   0.012335175648331642\n",
      "Train  CER:   0.0\n",
      "Test  loss:   0.29779133200645447\n",
      "Test   CER:   0.01682243\n",
      "Best   CER:   0.01682243\n",
      "(['g', 'p', 'n', 'x', 'n'], ['g', 'p', 'n', 'x', 'n'])\n",
      "(['g', 'w', '4', '6', '8'], ['g', 'w', '4', '6', '8'])\n",
      "(['6', 'm', 'e', 'g', 'e'], ['6', 'm', 'e', 'g', 'e'])\n",
      "(['d', '2', '2', 'n', '7'], ['d', '2', '2', 'n', '7'])\n",
      "(['n', 'c', 'f', 'g', 'b'], ['n', 'c', 'f', 'g', 'b'])\n",
      "EPOCH 72/80: \n"
     ]
    },
    {
     "data": {
      "application/vnd.jupyter.widget-view+json": {
       "model_id": "e10ca7fe4ae44ec5a77e8598f8df1f84",
       "version_major": 2,
       "version_minor": 0
      },
      "text/plain": [
       "  0%|          | 0/14 [00:00<?, ?it/s]"
      ]
     },
     "metadata": {},
     "output_type": "display_data"
    },
    {
     "data": {
      "application/vnd.jupyter.widget-view+json": {
       "model_id": "0bff5e889c9f4ee89e9a0aca0db07e46",
       "version_major": 2,
       "version_minor": 0
      },
      "text/plain": [
       "  0%|          | 0/4 [00:00<?, ?it/s]"
      ]
     },
     "metadata": {},
     "output_type": "display_data"
    },
    {
     "name": "stdout",
     "output_type": "stream",
     "text": [
      "Train loss:   0.008748319000005722\n",
      "Train  CER:   0.0\n",
      "Test  loss:   0.3044334650039673\n",
      "Test   CER:   0.020560747\n",
      "Best   CER:   0.01682243\n",
      "(['g', 'w', '4', '6', '8'], ['g', 'w', '4', '6', '8'])\n",
      "(['6', 'm', 'e', 'g', 'e'], ['6', 'm', 'e', 'g', 'e'])\n",
      "(['d', '2', '2', 'n', '7'], ['d', '2', '2', 'n', '7'])\n",
      "(['n', 'c', 'f', 'g', 'b'], ['n', 'c', 'f', 'g', 'b'])\n",
      "(['f', 'f', 'n', 'x', 'n'], ['f', 'f', 'n', 'x', 'n'])\n",
      "EPOCH 73/80: \n"
     ]
    },
    {
     "data": {
      "application/vnd.jupyter.widget-view+json": {
       "model_id": "c5c9cf39b1d44ec4947c7e8cc70e7d1a",
       "version_major": 2,
       "version_minor": 0
      },
      "text/plain": [
       "  0%|          | 0/14 [00:00<?, ?it/s]"
      ]
     },
     "metadata": {},
     "output_type": "display_data"
    },
    {
     "data": {
      "application/vnd.jupyter.widget-view+json": {
       "model_id": "b03b87fb8a8d427c8f4468b650a82e94",
       "version_major": 2,
       "version_minor": 0
      },
      "text/plain": [
       "  0%|          | 0/4 [00:00<?, ?it/s]"
      ]
     },
     "metadata": {},
     "output_type": "display_data"
    },
    {
     "name": "stdout",
     "output_type": "stream",
     "text": [
      "Train loss:   0.005650616716593504\n",
      "Train  CER:   0.0\n",
      "Test  loss:   0.30873677134513855\n",
      "Test   CER:   0.01775701\n",
      "Best   CER:   0.01682243\n",
      "(['6', 'm', 'e', 'g', 'e'], ['6', 'm', 'e', 'g', 'e'])\n",
      "(['d', '2', '2', 'n', '7'], ['d', '2', '2', 'n', '7'])\n",
      "(['n', 'c', 'f', 'g', 'b'], ['n', 'c', 'f', 'g', 'b'])\n",
      "(['f', 'f', 'n', 'x', 'n'], ['f', 'f', 'n', 'x', 'n'])\n",
      "(['7', '5', 'p', 'f', 'w'], ['7', '5', 'p', 'f', 'w'])\n",
      "EPOCH 74/80: \n"
     ]
    },
    {
     "data": {
      "application/vnd.jupyter.widget-view+json": {
       "model_id": "79c5fb39fe7d4bdea622a42f4181af79",
       "version_major": 2,
       "version_minor": 0
      },
      "text/plain": [
       "  0%|          | 0/14 [00:00<?, ?it/s]"
      ]
     },
     "metadata": {},
     "output_type": "display_data"
    },
    {
     "data": {
      "application/vnd.jupyter.widget-view+json": {
       "model_id": "1f6c3835546c4def9dd79b7ad766124f",
       "version_major": 2,
       "version_minor": 0
      },
      "text/plain": [
       "  0%|          | 0/4 [00:00<?, ?it/s]"
      ]
     },
     "metadata": {},
     "output_type": "display_data"
    },
    {
     "name": "stdout",
     "output_type": "stream",
     "text": [
      "Train loss:   0.00350264017470181\n",
      "Train  CER:   0.0\n",
      "Test  loss:   0.24585212767124176\n",
      "Test   CER:   0.0149532715\n",
      "Best   CER:   0.0149532715\n",
      "(['d', '2', '2', 'n', '7'], ['d', '2', '2', 'n', '7'])\n",
      "(['n', 'c', 'f', 'g', 'b'], ['n', 'c', 'f', 'g', 'b'])\n",
      "(['f', 'f', 'n', 'x', 'n'], ['f', 'f', 'n', 'x', 'n'])\n",
      "(['7', '5', 'p', 'f', 'w'], ['7', '5', 'p', 'f', 'w'])\n",
      "(['x', '4', '5', '8', 'w'], ['x', '4', '5', '8', 'w'])\n",
      "EPOCH 75/80: \n"
     ]
    },
    {
     "data": {
      "application/vnd.jupyter.widget-view+json": {
       "model_id": "53818e162ec145cd9319a4da35a4166a",
       "version_major": 2,
       "version_minor": 0
      },
      "text/plain": [
       "  0%|          | 0/14 [00:00<?, ?it/s]"
      ]
     },
     "metadata": {},
     "output_type": "display_data"
    },
    {
     "data": {
      "application/vnd.jupyter.widget-view+json": {
       "model_id": "ce973c05cc024b45a10923cc166df538",
       "version_major": 2,
       "version_minor": 0
      },
      "text/plain": [
       "  0%|          | 0/4 [00:00<?, ?it/s]"
      ]
     },
     "metadata": {},
     "output_type": "display_data"
    },
    {
     "name": "stdout",
     "output_type": "stream",
     "text": [
      "Train loss:   0.0022694000508636236\n",
      "Train  CER:   0.0\n",
      "Test  loss:   0.22188599407672882\n",
      "Test   CER:   0.009345794\n",
      "Best   CER:   0.009345794\n",
      "(['n', 'c', 'f', 'g', 'b'], ['n', 'c', 'f', 'g', 'b'])\n",
      "(['f', 'f', 'n', 'x', 'n'], ['f', 'f', 'n', 'x', 'n'])\n",
      "(['7', '5', 'p', 'f', 'w'], ['7', '5', 'p', 'f', 'w'])\n",
      "(['x', '4', '5', '8', 'w'], ['x', '4', '5', '8', 'w'])\n",
      "(['b', 'w', '4', '4', 'w'], ['b', 'w', '4', '4', 'w'])\n",
      "EPOCH 76/80: \n"
     ]
    },
    {
     "data": {
      "application/vnd.jupyter.widget-view+json": {
       "model_id": "161b682775e0436d80e711176f16adbf",
       "version_major": 2,
       "version_minor": 0
      },
      "text/plain": [
       "  0%|          | 0/14 [00:00<?, ?it/s]"
      ]
     },
     "metadata": {},
     "output_type": "display_data"
    },
    {
     "data": {
      "application/vnd.jupyter.widget-view+json": {
       "model_id": "05071387668b424d92d89945fc4b4c48",
       "version_major": 2,
       "version_minor": 0
      },
      "text/plain": [
       "  0%|          | 0/4 [00:00<?, ?it/s]"
      ]
     },
     "metadata": {},
     "output_type": "display_data"
    },
    {
     "name": "stdout",
     "output_type": "stream",
     "text": [
      "Train loss:   0.0016164989210665226\n",
      "Train  CER:   0.0\n",
      "Test  loss:   0.267652302980423\n",
      "Test   CER:   0.01775701\n",
      "Best   CER:   0.009345794\n",
      "(['f', 'f', 'n', 'x', 'n'], ['f', 'f', 'n', 'x', 'n'])\n",
      "(['7', '5', 'p', 'f', 'w'], ['7', '5', 'p', 'f', 'w'])\n",
      "(['x', '4', '5', '8', 'w'], ['x', '4', '5', '8', 'w'])\n",
      "(['b', 'w', '4', '4', 'w'], ['b', 'w', '4', '4', 'w'])\n",
      "(['f', '2', 'f', 'g', 'e'], ['f', '2', 'f', 'g', 'e'])\n",
      "EPOCH 77/80: \n"
     ]
    },
    {
     "data": {
      "application/vnd.jupyter.widget-view+json": {
       "model_id": "452919006434429d90d23b72d8dcc060",
       "version_major": 2,
       "version_minor": 0
      },
      "text/plain": [
       "  0%|          | 0/14 [00:00<?, ?it/s]"
      ]
     },
     "metadata": {},
     "output_type": "display_data"
    },
    {
     "data": {
      "application/vnd.jupyter.widget-view+json": {
       "model_id": "561f063808254e61a98f2a2a9e0e1162",
       "version_major": 2,
       "version_minor": 0
      },
      "text/plain": [
       "  0%|          | 0/4 [00:00<?, ?it/s]"
      ]
     },
     "metadata": {},
     "output_type": "display_data"
    },
    {
     "name": "stdout",
     "output_type": "stream",
     "text": [
      "Train loss:   0.128144770860672\n",
      "Train  CER:   0.004672897\n",
      "Test  loss:   0.3774145543575287\n",
      "Test   CER:   0.022429906\n",
      "Best   CER:   0.009345794\n",
      "(['7', '5', 'p', 'f', 'w'], ['7', '5', 'p', 'f', 'w'])\n",
      "(['x', '4', '5', '8', 'w'], ['x', '4', '5', '8', 'w'])\n",
      "(['b', 'w', '4', '4', 'w'], ['b', 'w', '4', '4', 'w'])\n",
      "(['f', '2', 'f', 'g', 'e'], ['f', '2', 'f', 'g', 'e'])\n",
      "(['2', '5', '2', '5', '7'], ['2', '5', '2', '5', '7'])\n",
      "EPOCH 78/80: \n"
     ]
    },
    {
     "data": {
      "application/vnd.jupyter.widget-view+json": {
       "model_id": "ffdcc2a773374bc2ad058ebb1edabd82",
       "version_major": 2,
       "version_minor": 0
      },
      "text/plain": [
       "  0%|          | 0/14 [00:00<?, ?it/s]"
      ]
     },
     "metadata": {},
     "output_type": "display_data"
    },
    {
     "data": {
      "application/vnd.jupyter.widget-view+json": {
       "model_id": "8214a4f15c4e422e9b899049d32af1bf",
       "version_major": 2,
       "version_minor": 0
      },
      "text/plain": [
       "  0%|          | 0/4 [00:00<?, ?it/s]"
      ]
     },
     "metadata": {},
     "output_type": "display_data"
    },
    {
     "name": "stdout",
     "output_type": "stream",
     "text": [
      "Train loss:   0.04406942427158356\n",
      "Train  CER:   0.001635514\n",
      "Test  loss:   1.3614009618759155\n",
      "Test   CER:   0.06728972\n",
      "Best   CER:   0.009345794\n",
      "(['x', '4', '5', '8', 'w'], ['x', '4', '5', '8', 'w'])\n",
      "(['b', 'w', '4', '4', 'w'], ['b', 'w', '4', '4', 'w'])\n",
      "(['f', '2', 'f', 'g', 'e'], ['f', '2', 'f', 'g', 'e'])\n",
      "(['2', '5', '2', '5', '7'], ['2', '5', '2', '5', '7'])\n",
      "(['5', 'e', 'x', 'p', 'p'], ['5', 'e', 'x', 'p', 'p'])\n",
      "EPOCH 79/80: \n"
     ]
    },
    {
     "data": {
      "application/vnd.jupyter.widget-view+json": {
       "model_id": "c0a6982ec06a4cb7b5a68c09c52922ac",
       "version_major": 2,
       "version_minor": 0
      },
      "text/plain": [
       "  0%|          | 0/14 [00:00<?, ?it/s]"
      ]
     },
     "metadata": {},
     "output_type": "display_data"
    },
    {
     "data": {
      "application/vnd.jupyter.widget-view+json": {
       "model_id": "83391393f4104f97aa388b152d3d81a3",
       "version_major": 2,
       "version_minor": 0
      },
      "text/plain": [
       "  0%|          | 0/4 [00:00<?, ?it/s]"
      ]
     },
     "metadata": {},
     "output_type": "display_data"
    },
    {
     "name": "stdout",
     "output_type": "stream",
     "text": [
      "Train loss:   0.00760298129171133\n",
      "Train  CER:   0.00023364487\n",
      "Test  loss:   0.35272783041000366\n",
      "Test   CER:   0.01588785\n",
      "Best   CER:   0.009345794\n",
      "(['b', 'w', '4', '4', 'w'], ['b', 'w', '4', '4', 'w'])\n",
      "(['f', '2', 'f', 'g', 'e'], ['f', '2', 'f', 'g', 'e'])\n",
      "(['2', '5', '2', '5', '7'], ['2', '5', '2', '5', '7'])\n",
      "(['5', 'e', 'x', 'p', 'p'], ['5', 'e', 'x', 'p', 'p'])\n",
      "(['4', 'f', 'p', '5', 'g'], ['4', 'f', 'p', '5', 'g'])\n",
      "EPOCH 80/80: \n"
     ]
    },
    {
     "data": {
      "application/vnd.jupyter.widget-view+json": {
       "model_id": "56cc2e41cc6f4054ae5c9b9487c9898a",
       "version_major": 2,
       "version_minor": 0
      },
      "text/plain": [
       "  0%|          | 0/14 [00:00<?, ?it/s]"
      ]
     },
     "metadata": {},
     "output_type": "display_data"
    },
    {
     "data": {
      "application/vnd.jupyter.widget-view+json": {
       "model_id": "744cefa788c24dcb8602c4e3410d6fa8",
       "version_major": 2,
       "version_minor": 0
      },
      "text/plain": [
       "  0%|          | 0/4 [00:00<?, ?it/s]"
      ]
     },
     "metadata": {},
     "output_type": "display_data"
    },
    {
     "name": "stdout",
     "output_type": "stream",
     "text": [
      "Train loss:   0.0027356611099094152\n",
      "Train  CER:   0.0\n",
      "Test  loss:   0.2795172929763794\n",
      "Test   CER:   0.013084112\n",
      "Best   CER:   0.009345794\n",
      "(['f', '2', 'f', 'g', 'e'], ['f', '2', 'f', 'g', 'e'])\n",
      "(['2', '5', '2', '5', '7'], ['2', '5', '2', '5', '7'])\n",
      "(['5', 'e', 'x', 'p', 'p'], ['5', 'e', 'x', 'p', 'p'])\n",
      "(['4', 'f', 'p', '5', 'g'], ['4', 'f', 'p', '5', 'g'])\n",
      "(['b', 'x', 'x', 'f', 'c'], ['b', 'x', 'x', 'f', 'c'])\n"
     ]
    },
    {
     "data": {
      "image/png": "[encoded data removed]",
      "text/plain": [
       "<Figure size 640x480 with 2 Axes>"
      ]
     },
     "metadata": {},
     "output_type": "display_data"
    }
   ],
   "source": [
    "training_pipeline()"
   ]
  },
  {
   "attachments": {},
   "cell_type": "markdown",
   "metadata": {},
   "source": [
    "Как итог, сеть после 80 эпох обучения выходит на CER чуть менее 1%."
   ]
  },
  {
   "attachments": {},
   "cell_type": "markdown",
   "metadata": {},
   "source": [
    "В один из запусков модель имела крайне приятный график обучения, который я не смог не показать. В среднем модель всегда имеет одинаковую тенденцию к обучению, однако с разной степению зашумления.\n",
    "\n",
    "![image](analisys\\best_learning_curve.png)"
   ]
  },
  {
   "attachments": {},
   "cell_type": "markdown",
   "metadata": {},
   "source": [
    "## Анализ ошибок\n",
    "Ниже приведены примеры изображений из тестовой выборки, на которых сеть допускала ошибки. \n",
    "\n",
    "Самой распространенной ошибкой является перепутывание символов `c` и `e`, а также `m` и `n`. Ошибка в этих символах вполне ясна, особенно на примере `m` и `n`, когда они идут подряд. Возможно сеть обучилась на сильно изогнутые линии для выделения букв `c` и `e`, и на близко стоящие вертикальные линии для букв `m` и `n`. \n",
    "\n",
    "Также после нескольких запусков я обнаружил, что сеть допускает ошибку в 4-ом символе. Она может как не выдать никакого символа и иметь ответ в 4 из 5 символов, так и допустить ошибку в распозновании символа. \n",
    "\n",
    "Возможные решения проблем:\n",
    "- Клипать градиенты на всех этапах обучения, а не только занулять inf градиенты\n",
    "- Для лучшей сзодимости установить изменяющийся lr\n",
    "- Архитектура из статьи создана для распознования почти любых слов длиной до 24 символов. С учетом однотипности данных можно подобрать размеры сверток в CNN части модели так, что последователности, приходящие из CNN в LSTM будут иметь receptive field почти совпадающий с буквой на изображении капчи.\n",
    "- Почти у всех капч есть справа большой участок пустого места. Можно его обрезать.\n",
    "- Для того, чтобы убрать горизонтальную полосу и некоторые дефекты изображения, можно применить морфологические операции на этапе чтения изображения."
   ]
  },
  {
   "cell_type": "code",
   "execution_count": 5,
   "metadata": {},
   "outputs": [
    {
     "data": {
      "application/vnd.jupyter.widget-view+json": {
       "model_id": "f375747d968d4b12a566a1de1e13237e",
       "version_major": 2,
       "version_minor": 0
      },
      "text/plain": [
       "  0%|          | 0/1070 [00:00<?, ?it/s]"
      ]
     },
     "metadata": {},
     "output_type": "display_data"
    },
    {
     "data": {
      "application/vnd.jupyter.widget-view+json": {
       "model_id": "6c4750456fb54ed6914fbcb38bbe0364",
       "version_major": 2,
       "version_minor": 0
      },
      "text/plain": [
       "  0%|          | 0/1 [00:00<?, ?it/s]"
      ]
     },
     "metadata": {},
     "output_type": "display_data"
    },
    {
     "data": {
      "image/png": "[encoded data removed]",
      "text/plain": [
       "<Figure size 1500x800 with 12 Axes>"
      ]
     },
     "metadata": {},
     "output_type": "display_data"
    }
   ],
   "source": [
    "searcher_for_problem_examples()"
   ]
  },
  {
   "attachments": {},
   "cell_type": "markdown",
   "metadata": {},
   "source": [
    "Повторюсь, подобные решения не были мною применены, т.к. хотелось показать, какой результат выдает подход, описанный в [статье](https://arxiv.org/pdf/1507.05717.pdf)"
   ]
  }
 ],
 "metadata": {
  "kernelspec": {
   "display_name": ".venv",
   "language": "python",
   "name": "python3"
  },
  "language_info": {
   "codemirror_mode": {
    "name": "ipython",
    "version": 3
   },
   "file_extension": ".py",
   "mimetype": "text/x-python",
   "name": "python",
   "nbconvert_exporter": "python",
   "pygments_lexer": "ipython3",
   "version": "3.7.8"
  },
  "orig_nbformat": 4,
  "vscode": {
   "interpreter": {
    "hash": "dd0de9cdb1bfa7d919198e814192a776ef83b170c7cec3c0b0ee3a26968a996d"
   }
  }
 },
 "nbformat": 4,
 "nbformat_minor": 2
}
